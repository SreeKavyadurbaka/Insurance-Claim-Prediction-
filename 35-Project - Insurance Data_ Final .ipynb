{
 "cells": [
  {
   "cell_type": "markdown",
   "id": "ff0aeebf",
   "metadata": {},
   "source": [
    "### 1. What is the data set about?\n",
    "It has infromtion about various features of people from age, gender to diabetic(positive/not),region\n",
    "The interested variable is insurance claim. Every row represents a person in this data set. \n",
    "Each column representing various attributes of a person "
   ]
  },
  {
   "cell_type": "markdown",
   "id": "96626c74",
   "metadata": {},
   "source": [
    "### 2. What is the business problem? \n",
    "It is to figure out the factors responsible for a higher insurance claim. \n",
    "The effect of each factor on insurance claim, presicely.\n",
    "\n",
    "\n",
    "##### 2.1. Why do we need that? \n",
    "The business bases its decisions on these factors. If a person is predicted to claim a higher insurance claim, the business might not go ahead with him/her.\n",
    "\n",
    "Alternativey, they might target customers considering lower claim predictions as that will be more profitable. \n",
    "\n",
    "------> Premiums will be decided based on the predicted claims - A very important application of predicting the possible claim "
   ]
  },
  {
   "cell_type": "markdown",
   "id": "e1b20633",
   "metadata": {},
   "source": [
    "#### 2.2  After the model is built, How would they evaluate my model? or How Would they want my model output to be? \n",
    "Acceptable range of error. What is the measure you need to calculate error.\n",
    "\n",
    "The model should output a score : A risk Score that will give an idea to the business about\n",
    "    the risk level of a new customer/ application and will help them in setting a premium ( As discussed above). Its even better if a number could be associated to a class (High risk, low risk, medium risk etc.,)  "
   ]
  },
  {
   "cell_type": "code",
   "execution_count": 1,
   "id": "3b75767b",
   "metadata": {},
   "outputs": [],
   "source": [
    "import pandas as pd \n",
    "import seaborn as sns"
   ]
  },
  {
   "cell_type": "code",
   "execution_count": 2,
   "id": "0f06e084",
   "metadata": {},
   "outputs": [],
   "source": [
    "# What is the data given? \n",
    "import os \n",
    "data = pd.read_csv(\"insurance_data.csv\")"
   ]
  },
  {
   "cell_type": "code",
   "execution_count": 3,
   "id": "2120f1f0",
   "metadata": {},
   "outputs": [
    {
     "data": {
      "text/plain": [
       "(1340, 10)"
      ]
     },
     "execution_count": 3,
     "metadata": {},
     "output_type": "execute_result"
    }
   ],
   "source": [
    "data.shape\n",
    "#1340 rows , 10 columns \n",
    "#Does each row represent one customer? \n",
    "#Or any duplicate values present? "
   ]
  },
  {
   "cell_type": "code",
   "execution_count": 4,
   "id": "b0198229",
   "metadata": {},
   "outputs": [
    {
     "data": {
      "text/plain": [
       "1       False\n",
       "901     False\n",
       "899     False\n",
       "898     False\n",
       "897     False\n",
       "        ...  \n",
       "446     False\n",
       "445     False\n",
       "444     False\n",
       "443     False\n",
       "1340    False\n",
       "Name: PatientID, Length: 1340, dtype: bool"
      ]
     },
     "execution_count": 4,
     "metadata": {},
     "output_type": "execute_result"
    }
   ],
   "source": [
    "#Checking duplicates \n",
    "data[\"PatientID\"].value_counts()>1\n",
    "#Every row talks about one customer. "
   ]
  },
  {
   "cell_type": "markdown",
   "id": "8a34d39f",
   "metadata": {},
   "source": [
    "There are 1340 customers of an insurance company in this sample"
   ]
  },
  {
   "cell_type": "code",
   "execution_count": 5,
   "id": "2bf939fa",
   "metadata": {},
   "outputs": [
    {
     "data": {
      "text/plain": [
       "PatientID        0\n",
       "age              5\n",
       "gender           0\n",
       "bmi              0\n",
       "bloodpressure    0\n",
       "diabetic         0\n",
       "children         0\n",
       "smoker           0\n",
       "region           3\n",
       "claim            0\n",
       "dtype: int64"
      ]
     },
     "execution_count": 5,
     "metadata": {},
     "output_type": "execute_result"
    }
   ],
   "source": [
    "# Before proceeding further, is the data clean? Null values? \n",
    "data.isna().sum()\n",
    "#We see there are 5 nulls in age column, 3 in region. "
   ]
  },
  {
   "cell_type": "markdown",
   "id": "6375e50e",
   "metadata": {},
   "source": [
    "The proportion of Null values is very low \n",
    "(Generally if it is less than 40% we consider it safe to impute). Here we can go ahead with imputing \n",
    "1. Age : We can take the mean age \n",
    "2. Region: Mode should do "
   ]
  },
  {
   "cell_type": "code",
   "execution_count": 6,
   "id": "1b7e7402",
   "metadata": {},
   "outputs": [],
   "source": [
    "import numpy as np"
   ]
  },
  {
   "cell_type": "code",
   "execution_count": 7,
   "id": "6f2427a8",
   "metadata": {},
   "outputs": [
    {
     "data": {
      "text/plain": [
       "38.07865168539326"
      ]
     },
     "execution_count": 7,
     "metadata": {},
     "output_type": "execute_result"
    }
   ],
   "source": [
    "np.mean(data.age)\n",
    "#Mean age of the people in this sample is 38.08 "
   ]
  },
  {
   "cell_type": "code",
   "execution_count": 8,
   "id": "f292da09",
   "metadata": {},
   "outputs": [],
   "source": [
    "#Imputing the values for the missing values \n",
    "data['age']=data['age'].fillna(38.08)"
   ]
  },
  {
   "cell_type": "code",
   "execution_count": 9,
   "id": "96caad51",
   "metadata": {},
   "outputs": [
    {
     "data": {
      "text/html": [
       "<div>\n",
       "<style scoped>\n",
       "    .dataframe tbody tr th:only-of-type {\n",
       "        vertical-align: middle;\n",
       "    }\n",
       "\n",
       "    .dataframe tbody tr th {\n",
       "        vertical-align: top;\n",
       "    }\n",
       "\n",
       "    .dataframe thead th {\n",
       "        text-align: right;\n",
       "    }\n",
       "</style>\n",
       "<table border=\"1\" class=\"dataframe\">\n",
       "  <thead>\n",
       "    <tr style=\"text-align: right;\">\n",
       "      <th></th>\n",
       "      <th>PatientID</th>\n",
       "      <th>age</th>\n",
       "      <th>gender</th>\n",
       "      <th>bmi</th>\n",
       "      <th>bloodpressure</th>\n",
       "      <th>diabetic</th>\n",
       "      <th>children</th>\n",
       "      <th>smoker</th>\n",
       "      <th>region</th>\n",
       "      <th>claim</th>\n",
       "    </tr>\n",
       "  </thead>\n",
       "  <tbody>\n",
       "    <tr>\n",
       "      <th>0</th>\n",
       "      <td>1</td>\n",
       "      <td>39.00</td>\n",
       "      <td>male</td>\n",
       "      <td>23.2</td>\n",
       "      <td>91</td>\n",
       "      <td>Yes</td>\n",
       "      <td>0</td>\n",
       "      <td>No</td>\n",
       "      <td>southeast</td>\n",
       "      <td>1121.87</td>\n",
       "    </tr>\n",
       "    <tr>\n",
       "      <th>1</th>\n",
       "      <td>2</td>\n",
       "      <td>24.00</td>\n",
       "      <td>male</td>\n",
       "      <td>30.1</td>\n",
       "      <td>87</td>\n",
       "      <td>No</td>\n",
       "      <td>0</td>\n",
       "      <td>No</td>\n",
       "      <td>southeast</td>\n",
       "      <td>1131.51</td>\n",
       "    </tr>\n",
       "    <tr>\n",
       "      <th>2</th>\n",
       "      <td>3</td>\n",
       "      <td>38.08</td>\n",
       "      <td>male</td>\n",
       "      <td>33.3</td>\n",
       "      <td>82</td>\n",
       "      <td>Yes</td>\n",
       "      <td>0</td>\n",
       "      <td>No</td>\n",
       "      <td>southeast</td>\n",
       "      <td>1135.94</td>\n",
       "    </tr>\n",
       "    <tr>\n",
       "      <th>3</th>\n",
       "      <td>4</td>\n",
       "      <td>38.08</td>\n",
       "      <td>male</td>\n",
       "      <td>33.7</td>\n",
       "      <td>80</td>\n",
       "      <td>No</td>\n",
       "      <td>0</td>\n",
       "      <td>No</td>\n",
       "      <td>northwest</td>\n",
       "      <td>1136.40</td>\n",
       "    </tr>\n",
       "    <tr>\n",
       "      <th>4</th>\n",
       "      <td>5</td>\n",
       "      <td>38.08</td>\n",
       "      <td>male</td>\n",
       "      <td>34.1</td>\n",
       "      <td>100</td>\n",
       "      <td>No</td>\n",
       "      <td>0</td>\n",
       "      <td>No</td>\n",
       "      <td>northwest</td>\n",
       "      <td>1137.01</td>\n",
       "    </tr>\n",
       "    <tr>\n",
       "      <th>...</th>\n",
       "      <td>...</td>\n",
       "      <td>...</td>\n",
       "      <td>...</td>\n",
       "      <td>...</td>\n",
       "      <td>...</td>\n",
       "      <td>...</td>\n",
       "      <td>...</td>\n",
       "      <td>...</td>\n",
       "      <td>...</td>\n",
       "      <td>...</td>\n",
       "    </tr>\n",
       "    <tr>\n",
       "      <th>1335</th>\n",
       "      <td>1336</td>\n",
       "      <td>44.00</td>\n",
       "      <td>female</td>\n",
       "      <td>35.5</td>\n",
       "      <td>88</td>\n",
       "      <td>Yes</td>\n",
       "      <td>0</td>\n",
       "      <td>Yes</td>\n",
       "      <td>northwest</td>\n",
       "      <td>55135.40</td>\n",
       "    </tr>\n",
       "    <tr>\n",
       "      <th>1336</th>\n",
       "      <td>1337</td>\n",
       "      <td>59.00</td>\n",
       "      <td>female</td>\n",
       "      <td>38.1</td>\n",
       "      <td>120</td>\n",
       "      <td>No</td>\n",
       "      <td>1</td>\n",
       "      <td>Yes</td>\n",
       "      <td>northeast</td>\n",
       "      <td>58571.07</td>\n",
       "    </tr>\n",
       "    <tr>\n",
       "      <th>1337</th>\n",
       "      <td>1338</td>\n",
       "      <td>30.00</td>\n",
       "      <td>male</td>\n",
       "      <td>34.5</td>\n",
       "      <td>91</td>\n",
       "      <td>Yes</td>\n",
       "      <td>3</td>\n",
       "      <td>Yes</td>\n",
       "      <td>northwest</td>\n",
       "      <td>60021.40</td>\n",
       "    </tr>\n",
       "    <tr>\n",
       "      <th>1338</th>\n",
       "      <td>1339</td>\n",
       "      <td>37.00</td>\n",
       "      <td>male</td>\n",
       "      <td>30.4</td>\n",
       "      <td>106</td>\n",
       "      <td>No</td>\n",
       "      <td>0</td>\n",
       "      <td>Yes</td>\n",
       "      <td>southeast</td>\n",
       "      <td>62592.87</td>\n",
       "    </tr>\n",
       "    <tr>\n",
       "      <th>1339</th>\n",
       "      <td>1340</td>\n",
       "      <td>30.00</td>\n",
       "      <td>female</td>\n",
       "      <td>47.4</td>\n",
       "      <td>101</td>\n",
       "      <td>No</td>\n",
       "      <td>0</td>\n",
       "      <td>Yes</td>\n",
       "      <td>southeast</td>\n",
       "      <td>63770.43</td>\n",
       "    </tr>\n",
       "  </tbody>\n",
       "</table>\n",
       "<p>1340 rows × 10 columns</p>\n",
       "</div>"
      ],
      "text/plain": [
       "      PatientID    age  gender   bmi  bloodpressure diabetic  children smoker  \\\n",
       "0             1  39.00    male  23.2             91      Yes         0     No   \n",
       "1             2  24.00    male  30.1             87       No         0     No   \n",
       "2             3  38.08    male  33.3             82      Yes         0     No   \n",
       "3             4  38.08    male  33.7             80       No         0     No   \n",
       "4             5  38.08    male  34.1            100       No         0     No   \n",
       "...         ...    ...     ...   ...            ...      ...       ...    ...   \n",
       "1335       1336  44.00  female  35.5             88      Yes         0    Yes   \n",
       "1336       1337  59.00  female  38.1            120       No         1    Yes   \n",
       "1337       1338  30.00    male  34.5             91      Yes         3    Yes   \n",
       "1338       1339  37.00    male  30.4            106       No         0    Yes   \n",
       "1339       1340  30.00  female  47.4            101       No         0    Yes   \n",
       "\n",
       "         region     claim  \n",
       "0     southeast   1121.87  \n",
       "1     southeast   1131.51  \n",
       "2     southeast   1135.94  \n",
       "3     northwest   1136.40  \n",
       "4     northwest   1137.01  \n",
       "...         ...       ...  \n",
       "1335  northwest  55135.40  \n",
       "1336  northeast  58571.07  \n",
       "1337  northwest  60021.40  \n",
       "1338  southeast  62592.87  \n",
       "1339  southeast  63770.43  \n",
       "\n",
       "[1340 rows x 10 columns]"
      ]
     },
     "execution_count": 9,
     "metadata": {},
     "output_type": "execute_result"
    }
   ],
   "source": [
    "data "
   ]
  },
  {
   "cell_type": "code",
   "execution_count": 10,
   "id": "38d53003",
   "metadata": {},
   "outputs": [
    {
     "data": {
      "text/plain": [
       "PatientID        0\n",
       "age              0\n",
       "gender           0\n",
       "bmi              0\n",
       "bloodpressure    0\n",
       "diabetic         0\n",
       "children         0\n",
       "smoker           0\n",
       "region           3\n",
       "claim            0\n",
       "dtype: int64"
      ]
     },
     "execution_count": 10,
     "metadata": {},
     "output_type": "execute_result"
    }
   ],
   "source": [
    "data.isna().sum() #Successfully imputed in age "
   ]
  },
  {
   "cell_type": "code",
   "execution_count": 11,
   "id": "ece850a6",
   "metadata": {},
   "outputs": [],
   "source": [
    "from scipy import stats"
   ]
  },
  {
   "cell_type": "code",
   "execution_count": 12,
   "id": "e23ecd01",
   "metadata": {},
   "outputs": [
    {
     "data": {
      "text/plain": [
       "ModeResult(mode=array(['southeast'], dtype=object), count=array([443]))"
      ]
     },
     "execution_count": 12,
     "metadata": {},
     "output_type": "execute_result"
    }
   ],
   "source": [
    "#Imputing in region \n",
    "stats.mode(data.region) \n",
    "#South east is the mode "
   ]
  },
  {
   "cell_type": "code",
   "execution_count": 13,
   "id": "10c5ef7d",
   "metadata": {},
   "outputs": [],
   "source": [
    "data['region']=data['region'].fillna('southeast')"
   ]
  },
  {
   "cell_type": "code",
   "execution_count": 14,
   "id": "6e925aae",
   "metadata": {},
   "outputs": [
    {
     "data": {
      "text/plain": [
       "PatientID        0\n",
       "age              0\n",
       "gender           0\n",
       "bmi              0\n",
       "bloodpressure    0\n",
       "diabetic         0\n",
       "children         0\n",
       "smoker           0\n",
       "region           0\n",
       "claim            0\n",
       "dtype: int64"
      ]
     },
     "execution_count": 14,
     "metadata": {},
     "output_type": "execute_result"
    }
   ],
   "source": [
    "data.isna().sum() #Successfully imputed in region "
   ]
  },
  {
   "cell_type": "code",
   "execution_count": 15,
   "id": "9618cbf6",
   "metadata": {},
   "outputs": [
    {
     "data": {
      "text/plain": [
       "PatientID                3\n",
       "age                  38.08\n",
       "gender                male\n",
       "bmi                   33.3\n",
       "bloodpressure           82\n",
       "diabetic               Yes\n",
       "children                 0\n",
       "smoker                  No\n",
       "region           southeast\n",
       "claim              1135.94\n",
       "Name: 2, dtype: object"
      ]
     },
     "execution_count": 15,
     "metadata": {},
     "output_type": "execute_result"
    }
   ],
   "source": [
    "#Just checking if we did it right\n",
    "#Id 3 age was null \n",
    "#Id 14 region was null \n",
    "data.iloc[2,:]"
   ]
  },
  {
   "cell_type": "code",
   "execution_count": 16,
   "id": "9306b832",
   "metadata": {},
   "outputs": [
    {
     "data": {
      "text/plain": [
       "PatientID               14\n",
       "age                   32.0\n",
       "gender                male\n",
       "bmi                   27.6\n",
       "bloodpressure          100\n",
       "diabetic                No\n",
       "children                 0\n",
       "smoker                  No\n",
       "region           southeast\n",
       "claim              1252.41\n",
       "Name: 13, dtype: object"
      ]
     },
     "execution_count": 16,
     "metadata": {},
     "output_type": "execute_result"
    }
   ],
   "source": [
    "data.iloc[13,:]"
   ]
  },
  {
   "cell_type": "code",
   "execution_count": 17,
   "id": "4839584e",
   "metadata": {},
   "outputs": [],
   "source": [
    "#Now the data is ready to be studied. "
   ]
  },
  {
   "cell_type": "markdown",
   "id": "0b5b4e0f",
   "metadata": {},
   "source": [
    "## 1. Univariate Analysis "
   ]
  },
  {
   "cell_type": "markdown",
   "id": "e6179f33",
   "metadata": {},
   "source": [
    "1. I want to look the the mean, and other stats of all the variabels in my data.Why do I want that? \n",
    "\n",
    " A. To know the customers well "
   ]
  },
  {
   "cell_type": "code",
   "execution_count": 18,
   "id": "41db3be9",
   "metadata": {},
   "outputs": [
    {
     "data": {
      "text/html": [
       "<div>\n",
       "<style scoped>\n",
       "    .dataframe tbody tr th:only-of-type {\n",
       "        vertical-align: middle;\n",
       "    }\n",
       "\n",
       "    .dataframe tbody tr th {\n",
       "        vertical-align: top;\n",
       "    }\n",
       "\n",
       "    .dataframe thead th {\n",
       "        text-align: right;\n",
       "    }\n",
       "</style>\n",
       "<table border=\"1\" class=\"dataframe\">\n",
       "  <thead>\n",
       "    <tr style=\"text-align: right;\">\n",
       "      <th></th>\n",
       "      <th>PatientID</th>\n",
       "      <th>age</th>\n",
       "      <th>bmi</th>\n",
       "      <th>bloodpressure</th>\n",
       "      <th>children</th>\n",
       "      <th>claim</th>\n",
       "    </tr>\n",
       "  </thead>\n",
       "  <tbody>\n",
       "    <tr>\n",
       "      <th>count</th>\n",
       "      <td>1340.000000</td>\n",
       "      <td>1340.000000</td>\n",
       "      <td>1340.000000</td>\n",
       "      <td>1340.000000</td>\n",
       "      <td>1340.000000</td>\n",
       "      <td>1340.000000</td>\n",
       "    </tr>\n",
       "    <tr>\n",
       "      <th>mean</th>\n",
       "      <td>670.500000</td>\n",
       "      <td>38.078657</td>\n",
       "      <td>30.668955</td>\n",
       "      <td>94.157463</td>\n",
       "      <td>1.093284</td>\n",
       "      <td>13252.745642</td>\n",
       "    </tr>\n",
       "    <tr>\n",
       "      <th>std</th>\n",
       "      <td>386.968991</td>\n",
       "      <td>11.082175</td>\n",
       "      <td>6.106735</td>\n",
       "      <td>11.434712</td>\n",
       "      <td>1.205334</td>\n",
       "      <td>12109.609288</td>\n",
       "    </tr>\n",
       "    <tr>\n",
       "      <th>min</th>\n",
       "      <td>1.000000</td>\n",
       "      <td>18.000000</td>\n",
       "      <td>16.000000</td>\n",
       "      <td>80.000000</td>\n",
       "      <td>0.000000</td>\n",
       "      <td>1121.870000</td>\n",
       "    </tr>\n",
       "    <tr>\n",
       "      <th>25%</th>\n",
       "      <td>335.750000</td>\n",
       "      <td>29.000000</td>\n",
       "      <td>26.275000</td>\n",
       "      <td>86.000000</td>\n",
       "      <td>0.000000</td>\n",
       "      <td>4719.685000</td>\n",
       "    </tr>\n",
       "    <tr>\n",
       "      <th>50%</th>\n",
       "      <td>670.500000</td>\n",
       "      <td>38.000000</td>\n",
       "      <td>30.400000</td>\n",
       "      <td>92.000000</td>\n",
       "      <td>1.000000</td>\n",
       "      <td>9369.615000</td>\n",
       "    </tr>\n",
       "    <tr>\n",
       "      <th>75%</th>\n",
       "      <td>1005.250000</td>\n",
       "      <td>47.000000</td>\n",
       "      <td>34.700000</td>\n",
       "      <td>99.000000</td>\n",
       "      <td>2.000000</td>\n",
       "      <td>16604.305000</td>\n",
       "    </tr>\n",
       "    <tr>\n",
       "      <th>max</th>\n",
       "      <td>1340.000000</td>\n",
       "      <td>60.000000</td>\n",
       "      <td>53.100000</td>\n",
       "      <td>140.000000</td>\n",
       "      <td>5.000000</td>\n",
       "      <td>63770.430000</td>\n",
       "    </tr>\n",
       "  </tbody>\n",
       "</table>\n",
       "</div>"
      ],
      "text/plain": [
       "         PatientID          age          bmi  bloodpressure     children  \\\n",
       "count  1340.000000  1340.000000  1340.000000    1340.000000  1340.000000   \n",
       "mean    670.500000    38.078657    30.668955      94.157463     1.093284   \n",
       "std     386.968991    11.082175     6.106735      11.434712     1.205334   \n",
       "min       1.000000    18.000000    16.000000      80.000000     0.000000   \n",
       "25%     335.750000    29.000000    26.275000      86.000000     0.000000   \n",
       "50%     670.500000    38.000000    30.400000      92.000000     1.000000   \n",
       "75%    1005.250000    47.000000    34.700000      99.000000     2.000000   \n",
       "max    1340.000000    60.000000    53.100000     140.000000     5.000000   \n",
       "\n",
       "              claim  \n",
       "count   1340.000000  \n",
       "mean   13252.745642  \n",
       "std    12109.609288  \n",
       "min     1121.870000  \n",
       "25%     4719.685000  \n",
       "50%     9369.615000  \n",
       "75%    16604.305000  \n",
       "max    63770.430000  "
      ]
     },
     "execution_count": 18,
     "metadata": {},
     "output_type": "execute_result"
    }
   ],
   "source": [
    "data.describe()"
   ]
  },
  {
   "cell_type": "markdown",
   "id": "16ab955c",
   "metadata": {},
   "source": [
    "1. There are 1340 customers in this sample \n",
    "--------------------------------------------------------------------------------------------\n",
    "AGE\n",
    "-------------------------------------------------------------------------------------------------\n",
    "2. The mean age of the customers under our analysis is 38.07 \n",
    "(Can I assume the mean age of the customers of this company to be 38.07?)\n",
    "Hypothesis:\n",
    "\"The mean age of customers of this insurance comapany is 38.07\". \n",
    "3. Only 25% of the customers under our analysis are older than 47y \n",
    "(The company seems to cater to younger customers mainly)\n",
    "4. 25% of the customers are younger below 29 years, not very surprising as the comapny is serving \n",
    "younger customers mainly \n",
    "-------------------------------------------------------------------------------------------------\n",
    "BMI \n",
    "----------------------------------------------------------------------------------------------------\n",
    "BMI is an indicator of health of individuals. \n",
    "BMI over 25 indicates obesity, BMI less than 18.5 is under weight \n",
    "1. The average BMI of the customers is : 30.66 \n",
    "Many customers of this comapny are obese. \n",
    "2. 75% percent of the customers in the sample have BMI above 25. 75% in the sample are obese \n",
    "-----------------------------------------------------------------------------------------------\n",
    "Blood Pressure \n",
    "-----------------------------------------------------------------------------------------------------\n",
    "Presuming a high blood pressure for many customers in this sample going by their BMI. \n",
    "\n",
    "Blood pressure between \n",
    "\n",
    "(90-120) is Normal \n",
    "\n",
    "(140-190) is High BP (Intesity goes up as the number goes up) \n",
    "\n",
    "1. Mean BP of the customers in the sample is 94.15(94%). Doesn't go well will the obesity stat. Is it wrong that obese people have high BP? \n",
    "2. There are not many High BP customers in the sample.  \n",
    "-------------------------------------------------------------------------------------------------\n",
    "Children \n",
    "------------------------------------------------------------------------------------------------------\n",
    "Number of children \n",
    "1. Only 25% of the customers have more than or equal to 2 children. \n",
    "2. Most of the customers in the sample have no child  (Can be understood as most of the customers are young)\n",
    "-------------------------------------------------------------------------------------------------\n",
    "Claim Amount \n",
    "------------------------------------------------------------------------------------------------------\n",
    "1. Mean amount claimed is around 13000"
   ]
  },
  {
   "cell_type": "markdown",
   "id": "aceb82f2",
   "metadata": {},
   "source": [
    "##### We have to plot every column and see if some of the assumptions above are correct and to understand the distribution of these features.\n",
    "Why do we need to look at the distribution? \n",
    "\n",
    "Helps us know the customers more.\n",
    "\n",
    "Eg: how is the BMI distributed across the customers? "
   ]
  },
  {
   "cell_type": "code",
   "execution_count": 19,
   "id": "8baf43c3",
   "metadata": {},
   "outputs": [],
   "source": [
    "import matplotlib.pyplot as plt"
   ]
  },
  {
   "cell_type": "code",
   "execution_count": 20,
   "id": "f5bc22e6",
   "metadata": {},
   "outputs": [],
   "source": [
    "def graph_v2(file):\n",
    "    dat=pd.read_csv(file)\n",
    "    for i in dat.columns:\n",
    "        if i in dat.loc[:,dat.dtypes==object] or dat[i].value_counts().count()<10: \n",
    "            #Here we are trying to get a bar plot for categorical as well as discrete numbers <10\n",
    "            dat[i].value_counts().plot(kind='bar', figsize=(10,8), color='turquoise', fontsize=12, rot=0)\n",
    "            plt.xlabel(i,fontsize=15)\n",
    "            plt.ylabel('Frequency',fontsize=15)\n",
    "            fig=plt.gcf()\n",
    "            plt.show()\n",
    "            #fig.savefig(i+'.jpg',dpi=100)\n",
    "        else:\n",
    "            plt.subplot(2,1,2)\n",
    "            plt.hist(dat[i],histtype='bar',bins=20,color='turquoise',edgecolor='white')\n",
    "            plt.xlabel(i)\n",
    "            plt.ylabel('Frequency')\n",
    "\n",
    "            plt.subplot(2,1,1)\n",
    "            plt.boxplot(dat[i], vert=False)\n",
    "            plt.title(f'Distribution of {i}')\n",
    "            fig1=plt.gcf()\n",
    "            plt.show()\n",
    "            #fig1.savefig(i+'.jpg',dpi=100)"
   ]
  },
  {
   "cell_type": "code",
   "execution_count": 21,
   "id": "e0d90501",
   "metadata": {},
   "outputs": [
    {
     "data": {
      "image/png": "[encoded data removed]",
      "text/plain": [
       "<Figure size 432x288 with 2 Axes>"
      ]
     },
     "metadata": {
      "needs_background": "light"
     },
     "output_type": "display_data"
    },
    {
     "data": {
      "image/png": "[encoded data removed]",
      "text/plain": [
       "<Figure size 432x288 with 2 Axes>"
      ]
     },
     "metadata": {
      "needs_background": "light"
     },
     "output_type": "display_data"
    },
    {
     "data": {
      "image/png": "[encoded data removed]",
      "text/plain": [
       "<Figure size 720x576 with 1 Axes>"
      ]
     },
     "metadata": {
      "needs_background": "light"
     },
     "output_type": "display_data"
    },
    {
     "data": {
      "image/png": "[encoded data removed]",
      "text/plain": [
       "<Figure size 432x288 with 2 Axes>"
      ]
     },
     "metadata": {
      "needs_background": "light"
     },
     "output_type": "display_data"
    },
    {
     "data": {
      "image/png": "[encoded data removed]",
      "text/plain": [
       "<Figure size 432x288 with 2 Axes>"
      ]
     },
     "metadata": {
      "needs_background": "light"
     },
     "output_type": "display_data"
    },
    {
     "data": {
      "image/png": "[encoded data removed]",
      "text/plain": [
       "<Figure size 720x576 with 1 Axes>"
      ]
     },
     "metadata": {
      "needs_background": "light"
     },
     "output_type": "display_data"
    },
    {
     "data": {
      "image/png": "[encoded data removed]",
      "text/plain": [
       "<Figure size 720x576 with 1 Axes>"
      ]
     },
     "metadata": {
      "needs_background": "light"
     },
     "output_type": "display_data"
    },
    {
     "data": {
      "image/png": "[encoded data removed]",
      "text/plain": [
       "<Figure size 720x576 with 1 Axes>"
      ]
     },
     "metadata": {
      "needs_background": "light"
     },
     "output_type": "display_data"
    },
    {
     "data": {
      "image/png": "[encoded data removed]",
      "text/plain": [
       "<Figure size 720x576 with 1 Axes>"
      ]
     },
     "metadata": {
      "needs_background": "light"
     },
     "output_type": "display_data"
    },
    {
     "data": {
      "image/png": "[encoded data removed]",
      "text/plain": [
       "<Figure size 432x288 with 2 Axes>"
      ]
     },
     "metadata": {
      "needs_background": "light"
     },
     "output_type": "display_data"
    }
   ],
   "source": [
    "graph_v2(\"insurance_data.csv\")"
   ]
  },
  {
   "cell_type": "code",
   "execution_count": null,
   "id": "8cb777d7",
   "metadata": {},
   "outputs": [],
   "source": []
  },
  {
   "cell_type": "markdown",
   "id": "927860de",
   "metadata": {},
   "source": [
    "Univariate Analysis Findings: \n",
    "------------------------------------------------------------------------------\n",
    "AGE\n",
    "------------------------------------------------------------------------------\n",
    "1. We found that most of the customers are younger, with less than 38 years.Younger People might not claim insurance unless in exceptional circumstances. We assume, elder people might claim more because of health issues.  \n",
    "---------------------------------------------------------------------------\n",
    "Gender\n",
    "---------------------------------------------------------------------------\n",
    "1. Men tend to work in riskier environment, there are chances that they are at higher risk, they might claim insurnce more than women (Assumption) \n",
    "Men and women are almost equal in this sample. For the regression model, the impact might not be great\n",
    "------------------------------------------------------------------------\n",
    "Diabetic \n",
    "----------------------------------------------------------------------------\n",
    "1. The portion of people with diabetes is only slightly lesser than the peole not with diabetes. Almost 50% have diabetes. \n",
    "This is expected as we saw that most of the customers didn't have a healthy BMI. \n",
    "------------------------------------------------------------------------\n",
    "BMI\n",
    "-------------------------------------------------------------------------------\n",
    "It is normally distributed with a mean at 30.6.Meaning, highest number of customers have a BMI @30 which is concerning. \n",
    "Most customers seem to have a sedentary lifestyle which might result in many diseases. \n",
    "We assume BMI will have a very high effect on insurance claim. \n",
    "High BMI> Diseases> More claim >More risk \n",
    "\n",
    "-----------------------------------------------------------------------------\n",
    "Blood Pressure\n",
    "--------------------------------------------------------------------------------\n",
    "It is right skewed. Meaning there are people with very high blood pressure, in this case from 120 - 140. \n",
    "Majority of the customers have Blood pressure in acceptable range. Isn't this strange? "
   ]
  },
  {
   "cell_type": "markdown",
   "id": "915af9a5",
   "metadata": {},
   "source": [
    "### H1: If population BMI is high, Blood pressure will be >=120. Test this Hypothesis \n",
    "1. Alternate: Mu<120 #Left tail test \n",
    "2. Null : mu>=120 \n",
    "3. Taking 95% Confidence interval "
   ]
  },
  {
   "cell_type": "code",
   "execution_count": 22,
   "id": "35123d78",
   "metadata": {},
   "outputs": [
    {
     "data": {
      "text/html": [
       "<div>\n",
       "<style scoped>\n",
       "    .dataframe tbody tr th:only-of-type {\n",
       "        vertical-align: middle;\n",
       "    }\n",
       "\n",
       "    .dataframe tbody tr th {\n",
       "        vertical-align: top;\n",
       "    }\n",
       "\n",
       "    .dataframe thead th {\n",
       "        text-align: right;\n",
       "    }\n",
       "</style>\n",
       "<table border=\"1\" class=\"dataframe\">\n",
       "  <thead>\n",
       "    <tr style=\"text-align: right;\">\n",
       "      <th></th>\n",
       "      <th>bmi</th>\n",
       "      <th>bloodpressure</th>\n",
       "    </tr>\n",
       "  </thead>\n",
       "  <tbody>\n",
       "    <tr>\n",
       "      <th>0</th>\n",
       "      <td>23.2</td>\n",
       "      <td>91</td>\n",
       "    </tr>\n",
       "    <tr>\n",
       "      <th>1</th>\n",
       "      <td>30.1</td>\n",
       "      <td>87</td>\n",
       "    </tr>\n",
       "    <tr>\n",
       "      <th>2</th>\n",
       "      <td>33.3</td>\n",
       "      <td>82</td>\n",
       "    </tr>\n",
       "    <tr>\n",
       "      <th>3</th>\n",
       "      <td>33.7</td>\n",
       "      <td>80</td>\n",
       "    </tr>\n",
       "    <tr>\n",
       "      <th>4</th>\n",
       "      <td>34.1</td>\n",
       "      <td>100</td>\n",
       "    </tr>\n",
       "    <tr>\n",
       "      <th>...</th>\n",
       "      <td>...</td>\n",
       "      <td>...</td>\n",
       "    </tr>\n",
       "    <tr>\n",
       "      <th>1335</th>\n",
       "      <td>35.5</td>\n",
       "      <td>88</td>\n",
       "    </tr>\n",
       "    <tr>\n",
       "      <th>1336</th>\n",
       "      <td>38.1</td>\n",
       "      <td>120</td>\n",
       "    </tr>\n",
       "    <tr>\n",
       "      <th>1337</th>\n",
       "      <td>34.5</td>\n",
       "      <td>91</td>\n",
       "    </tr>\n",
       "    <tr>\n",
       "      <th>1338</th>\n",
       "      <td>30.4</td>\n",
       "      <td>106</td>\n",
       "    </tr>\n",
       "    <tr>\n",
       "      <th>1339</th>\n",
       "      <td>47.4</td>\n",
       "      <td>101</td>\n",
       "    </tr>\n",
       "  </tbody>\n",
       "</table>\n",
       "<p>1340 rows × 2 columns</p>\n",
       "</div>"
      ],
      "text/plain": [
       "       bmi  bloodpressure\n",
       "0     23.2             91\n",
       "1     30.1             87\n",
       "2     33.3             82\n",
       "3     33.7             80\n",
       "4     34.1            100\n",
       "...    ...            ...\n",
       "1335  35.5             88\n",
       "1336  38.1            120\n",
       "1337  34.5             91\n",
       "1338  30.4            106\n",
       "1339  47.4            101\n",
       "\n",
       "[1340 rows x 2 columns]"
      ]
     },
     "execution_count": 22,
     "metadata": {},
     "output_type": "execute_result"
    }
   ],
   "source": [
    "pd.DataFrame(data.iloc[:,3:5])"
   ]
  },
  {
   "cell_type": "code",
   "execution_count": 23,
   "id": "4bd89452",
   "metadata": {},
   "outputs": [
    {
     "data": {
      "image/png": "[encoded data removed]",
      "text/plain": [
       "<Figure size 432x288 with 1 Axes>"
      ]
     },
     "metadata": {
      "needs_background": "light"
     },
     "output_type": "display_data"
    }
   ],
   "source": [
    "import matplotlib.pyplot as plt\n",
    "\n",
    "plt.scatter(data.bmi,data.bloodpressure)\n",
    "plt.title('relation between blood pressure_bmi')\n",
    "plt.xlabel('bmi')\n",
    "plt.ylabel('bloodpressure')\n",
    "plt.show()"
   ]
  },
  {
   "cell_type": "markdown",
   "id": "921497ba",
   "metadata": {},
   "source": [
    "###  H1.1 : Doing a Correlation test for the same \n",
    "-----------------------------------------------------------\n",
    "**Using Pearosnr**"
   ]
  },
  {
   "cell_type": "code",
   "execution_count": 24,
   "id": "f0e45fb2",
   "metadata": {},
   "outputs": [],
   "source": [
    "from scipy import stats\n",
    "from scipy.stats.stats import pearsonr"
   ]
  },
  {
   "cell_type": "code",
   "execution_count": 25,
   "id": "7aa93a07",
   "metadata": {
    "scrolled": true
   },
   "outputs": [
    {
     "data": {
      "text/plain": [
       "(0.14354385196831979, 1.3130594023727544e-07)"
      ]
     },
     "execution_count": 25,
     "metadata": {},
     "output_type": "execute_result"
    }
   ],
   "source": [
    "pearsonr(data.bmi,data.bloodpressure)\n",
    "#corcoeffpearson's = 0.143\n",
    "#The p-value is closer to zero which means the null hypothesis is rejected. \n",
    "#So the customers in the company have no correlation betweeen BMI and BP."
   ]
  },
  {
   "cell_type": "markdown",
   "id": "ee3b7f25",
   "metadata": {},
   "source": [
    "--------------------------------------------------------------------------\n",
    "Smokers\n",
    "------------------------------------------------------------------------------\n",
    "1. Very less number of smokers \n",
    "2. We assume that smokers will claim more \n",
    "--------------------------------------------------------------------------\n",
    "Region \n",
    "-----------------------------------------------------------------------------\n",
    "1. Less customers from Northeast Region - More Untapped potential for the company. \n",
    "2. Highest number of customers from north east region. \n",
    "3. However, the customers are distributed well among south east, northwest,south west regions. \n",
    "Why is the 3rd point relevant? \n",
    "say a seasonal disease affects people in south east region, the company knows they will have more claims. That makes them more risky. \n",
    "\n",
    "However, those external factors are not mentioned in our data. So the most we can do is find the correlation between region and claim. \n",
    "\n",
    "-----------------------------------------------------------------------------\n",
    "Claim\n",
    "----------------------------------------------------------------------------------\n",
    "1. Distribution is right Skewed becasue of the outliers towards the higher end. There are customers who claimed very high compared to 75% of the claims made by customers \n"
   ]
  },
  {
   "cell_type": "markdown",
   "id": "c67d16dc",
   "metadata": {},
   "source": [
    "-----------------------------------------------------\n",
    "------------------------------------------------------"
   ]
  },
  {
   "cell_type": "markdown",
   "id": "c54fc0f9",
   "metadata": {},
   "source": [
    "## 2. Bivariate Analysis"
   ]
  },
  {
   "cell_type": "markdown",
   "id": "94e85f3e",
   "metadata": {},
   "source": [
    "Dropping patient ID from the analysis becasue it is not adding any value here"
   ]
  },
  {
   "cell_type": "code",
   "execution_count": 26,
   "id": "efef030b",
   "metadata": {},
   "outputs": [],
   "source": [
    "df = data"
   ]
  },
  {
   "cell_type": "code",
   "execution_count": 27,
   "id": "4a753971",
   "metadata": {},
   "outputs": [
    {
     "data": {
      "text/html": [
       "<div>\n",
       "<style scoped>\n",
       "    .dataframe tbody tr th:only-of-type {\n",
       "        vertical-align: middle;\n",
       "    }\n",
       "\n",
       "    .dataframe tbody tr th {\n",
       "        vertical-align: top;\n",
       "    }\n",
       "\n",
       "    .dataframe thead th {\n",
       "        text-align: right;\n",
       "    }\n",
       "</style>\n",
       "<table border=\"1\" class=\"dataframe\">\n",
       "  <thead>\n",
       "    <tr style=\"text-align: right;\">\n",
       "      <th></th>\n",
       "      <th>PatientID</th>\n",
       "      <th>age</th>\n",
       "      <th>gender</th>\n",
       "      <th>bmi</th>\n",
       "      <th>bloodpressure</th>\n",
       "      <th>diabetic</th>\n",
       "      <th>children</th>\n",
       "      <th>smoker</th>\n",
       "      <th>region</th>\n",
       "      <th>claim</th>\n",
       "    </tr>\n",
       "  </thead>\n",
       "  <tbody>\n",
       "    <tr>\n",
       "      <th>0</th>\n",
       "      <td>1</td>\n",
       "      <td>39.00</td>\n",
       "      <td>male</td>\n",
       "      <td>23.2</td>\n",
       "      <td>91</td>\n",
       "      <td>Yes</td>\n",
       "      <td>0</td>\n",
       "      <td>No</td>\n",
       "      <td>southeast</td>\n",
       "      <td>1121.87</td>\n",
       "    </tr>\n",
       "    <tr>\n",
       "      <th>1</th>\n",
       "      <td>2</td>\n",
       "      <td>24.00</td>\n",
       "      <td>male</td>\n",
       "      <td>30.1</td>\n",
       "      <td>87</td>\n",
       "      <td>No</td>\n",
       "      <td>0</td>\n",
       "      <td>No</td>\n",
       "      <td>southeast</td>\n",
       "      <td>1131.51</td>\n",
       "    </tr>\n",
       "    <tr>\n",
       "      <th>2</th>\n",
       "      <td>3</td>\n",
       "      <td>38.08</td>\n",
       "      <td>male</td>\n",
       "      <td>33.3</td>\n",
       "      <td>82</td>\n",
       "      <td>Yes</td>\n",
       "      <td>0</td>\n",
       "      <td>No</td>\n",
       "      <td>southeast</td>\n",
       "      <td>1135.94</td>\n",
       "    </tr>\n",
       "    <tr>\n",
       "      <th>3</th>\n",
       "      <td>4</td>\n",
       "      <td>38.08</td>\n",
       "      <td>male</td>\n",
       "      <td>33.7</td>\n",
       "      <td>80</td>\n",
       "      <td>No</td>\n",
       "      <td>0</td>\n",
       "      <td>No</td>\n",
       "      <td>northwest</td>\n",
       "      <td>1136.40</td>\n",
       "    </tr>\n",
       "    <tr>\n",
       "      <th>4</th>\n",
       "      <td>5</td>\n",
       "      <td>38.08</td>\n",
       "      <td>male</td>\n",
       "      <td>34.1</td>\n",
       "      <td>100</td>\n",
       "      <td>No</td>\n",
       "      <td>0</td>\n",
       "      <td>No</td>\n",
       "      <td>northwest</td>\n",
       "      <td>1137.01</td>\n",
       "    </tr>\n",
       "    <tr>\n",
       "      <th>...</th>\n",
       "      <td>...</td>\n",
       "      <td>...</td>\n",
       "      <td>...</td>\n",
       "      <td>...</td>\n",
       "      <td>...</td>\n",
       "      <td>...</td>\n",
       "      <td>...</td>\n",
       "      <td>...</td>\n",
       "      <td>...</td>\n",
       "      <td>...</td>\n",
       "    </tr>\n",
       "    <tr>\n",
       "      <th>1335</th>\n",
       "      <td>1336</td>\n",
       "      <td>44.00</td>\n",
       "      <td>female</td>\n",
       "      <td>35.5</td>\n",
       "      <td>88</td>\n",
       "      <td>Yes</td>\n",
       "      <td>0</td>\n",
       "      <td>Yes</td>\n",
       "      <td>northwest</td>\n",
       "      <td>55135.40</td>\n",
       "    </tr>\n",
       "    <tr>\n",
       "      <th>1336</th>\n",
       "      <td>1337</td>\n",
       "      <td>59.00</td>\n",
       "      <td>female</td>\n",
       "      <td>38.1</td>\n",
       "      <td>120</td>\n",
       "      <td>No</td>\n",
       "      <td>1</td>\n",
       "      <td>Yes</td>\n",
       "      <td>northeast</td>\n",
       "      <td>58571.07</td>\n",
       "    </tr>\n",
       "    <tr>\n",
       "      <th>1337</th>\n",
       "      <td>1338</td>\n",
       "      <td>30.00</td>\n",
       "      <td>male</td>\n",
       "      <td>34.5</td>\n",
       "      <td>91</td>\n",
       "      <td>Yes</td>\n",
       "      <td>3</td>\n",
       "      <td>Yes</td>\n",
       "      <td>northwest</td>\n",
       "      <td>60021.40</td>\n",
       "    </tr>\n",
       "    <tr>\n",
       "      <th>1338</th>\n",
       "      <td>1339</td>\n",
       "      <td>37.00</td>\n",
       "      <td>male</td>\n",
       "      <td>30.4</td>\n",
       "      <td>106</td>\n",
       "      <td>No</td>\n",
       "      <td>0</td>\n",
       "      <td>Yes</td>\n",
       "      <td>southeast</td>\n",
       "      <td>62592.87</td>\n",
       "    </tr>\n",
       "    <tr>\n",
       "      <th>1339</th>\n",
       "      <td>1340</td>\n",
       "      <td>30.00</td>\n",
       "      <td>female</td>\n",
       "      <td>47.4</td>\n",
       "      <td>101</td>\n",
       "      <td>No</td>\n",
       "      <td>0</td>\n",
       "      <td>Yes</td>\n",
       "      <td>southeast</td>\n",
       "      <td>63770.43</td>\n",
       "    </tr>\n",
       "  </tbody>\n",
       "</table>\n",
       "<p>1340 rows × 10 columns</p>\n",
       "</div>"
      ],
      "text/plain": [
       "      PatientID    age  gender   bmi  bloodpressure diabetic  children smoker  \\\n",
       "0             1  39.00    male  23.2             91      Yes         0     No   \n",
       "1             2  24.00    male  30.1             87       No         0     No   \n",
       "2             3  38.08    male  33.3             82      Yes         0     No   \n",
       "3             4  38.08    male  33.7             80       No         0     No   \n",
       "4             5  38.08    male  34.1            100       No         0     No   \n",
       "...         ...    ...     ...   ...            ...      ...       ...    ...   \n",
       "1335       1336  44.00  female  35.5             88      Yes         0    Yes   \n",
       "1336       1337  59.00  female  38.1            120       No         1    Yes   \n",
       "1337       1338  30.00    male  34.5             91      Yes         3    Yes   \n",
       "1338       1339  37.00    male  30.4            106       No         0    Yes   \n",
       "1339       1340  30.00  female  47.4            101       No         0    Yes   \n",
       "\n",
       "         region     claim  \n",
       "0     southeast   1121.87  \n",
       "1     southeast   1131.51  \n",
       "2     southeast   1135.94  \n",
       "3     northwest   1136.40  \n",
       "4     northwest   1137.01  \n",
       "...         ...       ...  \n",
       "1335  northwest  55135.40  \n",
       "1336  northeast  58571.07  \n",
       "1337  northwest  60021.40  \n",
       "1338  southeast  62592.87  \n",
       "1339  southeast  63770.43  \n",
       "\n",
       "[1340 rows x 10 columns]"
      ]
     },
     "execution_count": 27,
     "metadata": {},
     "output_type": "execute_result"
    }
   ],
   "source": [
    "df"
   ]
  },
  {
   "cell_type": "code",
   "execution_count": 28,
   "id": "8db5b158",
   "metadata": {},
   "outputs": [
    {
     "data": {
      "text/html": [
       "<div>\n",
       "<style scoped>\n",
       "    .dataframe tbody tr th:only-of-type {\n",
       "        vertical-align: middle;\n",
       "    }\n",
       "\n",
       "    .dataframe tbody tr th {\n",
       "        vertical-align: top;\n",
       "    }\n",
       "\n",
       "    .dataframe thead th {\n",
       "        text-align: right;\n",
       "    }\n",
       "</style>\n",
       "<table border=\"1\" class=\"dataframe\">\n",
       "  <thead>\n",
       "    <tr style=\"text-align: right;\">\n",
       "      <th></th>\n",
       "      <th>age</th>\n",
       "      <th>gender</th>\n",
       "      <th>bmi</th>\n",
       "      <th>bloodpressure</th>\n",
       "      <th>diabetic</th>\n",
       "      <th>children</th>\n",
       "      <th>smoker</th>\n",
       "      <th>region</th>\n",
       "      <th>claim</th>\n",
       "    </tr>\n",
       "  </thead>\n",
       "  <tbody>\n",
       "    <tr>\n",
       "      <th>0</th>\n",
       "      <td>39.00</td>\n",
       "      <td>male</td>\n",
       "      <td>23.2</td>\n",
       "      <td>91</td>\n",
       "      <td>Yes</td>\n",
       "      <td>0</td>\n",
       "      <td>No</td>\n",
       "      <td>southeast</td>\n",
       "      <td>1121.87</td>\n",
       "    </tr>\n",
       "    <tr>\n",
       "      <th>1</th>\n",
       "      <td>24.00</td>\n",
       "      <td>male</td>\n",
       "      <td>30.1</td>\n",
       "      <td>87</td>\n",
       "      <td>No</td>\n",
       "      <td>0</td>\n",
       "      <td>No</td>\n",
       "      <td>southeast</td>\n",
       "      <td>1131.51</td>\n",
       "    </tr>\n",
       "    <tr>\n",
       "      <th>2</th>\n",
       "      <td>38.08</td>\n",
       "      <td>male</td>\n",
       "      <td>33.3</td>\n",
       "      <td>82</td>\n",
       "      <td>Yes</td>\n",
       "      <td>0</td>\n",
       "      <td>No</td>\n",
       "      <td>southeast</td>\n",
       "      <td>1135.94</td>\n",
       "    </tr>\n",
       "    <tr>\n",
       "      <th>3</th>\n",
       "      <td>38.08</td>\n",
       "      <td>male</td>\n",
       "      <td>33.7</td>\n",
       "      <td>80</td>\n",
       "      <td>No</td>\n",
       "      <td>0</td>\n",
       "      <td>No</td>\n",
       "      <td>northwest</td>\n",
       "      <td>1136.40</td>\n",
       "    </tr>\n",
       "    <tr>\n",
       "      <th>4</th>\n",
       "      <td>38.08</td>\n",
       "      <td>male</td>\n",
       "      <td>34.1</td>\n",
       "      <td>100</td>\n",
       "      <td>No</td>\n",
       "      <td>0</td>\n",
       "      <td>No</td>\n",
       "      <td>northwest</td>\n",
       "      <td>1137.01</td>\n",
       "    </tr>\n",
       "  </tbody>\n",
       "</table>\n",
       "</div>"
      ],
      "text/plain": [
       "     age gender   bmi  bloodpressure diabetic  children smoker     region  \\\n",
       "0  39.00   male  23.2             91      Yes         0     No  southeast   \n",
       "1  24.00   male  30.1             87       No         0     No  southeast   \n",
       "2  38.08   male  33.3             82      Yes         0     No  southeast   \n",
       "3  38.08   male  33.7             80       No         0     No  northwest   \n",
       "4  38.08   male  34.1            100       No         0     No  northwest   \n",
       "\n",
       "     claim  \n",
       "0  1121.87  \n",
       "1  1131.51  \n",
       "2  1135.94  \n",
       "3  1136.40  \n",
       "4  1137.01  "
      ]
     },
     "execution_count": 28,
     "metadata": {},
     "output_type": "execute_result"
    }
   ],
   "source": [
    "df = df.drop(['PatientID'],axis=1)\n",
    "df.head()"
   ]
  },
  {
   "cell_type": "markdown",
   "id": "f6b7957a",
   "metadata": {},
   "source": [
    "## 2.1 Pair wise plot - Gallery \n",
    "# -----------------------------------------------------------------------------------------------------------\n",
    "\n",
    "1. This will help us see if there is any clear trend between some varaibles. \n",
    "2. We will take these inferences and explore further"
   ]
  },
  {
   "cell_type": "code",
   "execution_count": 29,
   "id": "151575ce",
   "metadata": {},
   "outputs": [
    {
     "data": {
      "image/png": "[encoded data removed]",
      "text/plain": [
       "<Figure size 1008x720 with 25 Axes>"
      ]
     },
     "metadata": {
      "needs_background": "light"
     },
     "output_type": "display_data"
    }
   ],
   "source": [
    "#Seeing pair wise right now \n",
    "#This gives us a Bird's eye view of how variables are related to each other. \n",
    "from pandas.plotting import scatter_matrix\n",
    "scatter_matrix(df,alpha = 0.5,\n",
    "               figsize = (14,10),diagonal = 'hist')\n",
    "plt.show()"
   ]
  },
  {
   "cell_type": "code",
   "execution_count": 30,
   "id": "6435de32",
   "metadata": {},
   "outputs": [
    {
     "data": {
      "text/html": [
       "<style type=\"text/css\">\n",
       "#T_5aa68_row0_col0, #T_5aa68_row1_col1, #T_5aa68_row2_col2, #T_5aa68_row3_col3, #T_5aa68_row4_col4 {\n",
       "  background-color: #023858;\n",
       "  color: #f1f1f1;\n",
       "}\n",
       "#T_5aa68_row0_col1, #T_5aa68_row0_col2, #T_5aa68_row0_col4, #T_5aa68_row2_col0, #T_5aa68_row2_col3 {\n",
       "  background-color: #fff7fb;\n",
       "  color: #000000;\n",
       "}\n",
       "#T_5aa68_row0_col3 {\n",
       "  background-color: #fef6fb;\n",
       "  color: #000000;\n",
       "}\n",
       "#T_5aa68_row1_col0 {\n",
       "  background-color: #fdf5fa;\n",
       "  color: #000000;\n",
       "}\n",
       "#T_5aa68_row1_col2 {\n",
       "  background-color: #dddbec;\n",
       "  color: #000000;\n",
       "}\n",
       "#T_5aa68_row1_col3 {\n",
       "  background-color: #f9f2f8;\n",
       "  color: #000000;\n",
       "}\n",
       "#T_5aa68_row1_col4 {\n",
       "  background-color: #d7d6e9;\n",
       "  color: #000000;\n",
       "}\n",
       "#T_5aa68_row2_col1 {\n",
       "  background-color: #e0deed;\n",
       "  color: #000000;\n",
       "}\n",
       "#T_5aa68_row2_col4 {\n",
       "  background-color: #5ea0ca;\n",
       "  color: #f1f1f1;\n",
       "}\n",
       "#T_5aa68_row3_col0 {\n",
       "  background-color: #faf3f9;\n",
       "  color: #000000;\n",
       "}\n",
       "#T_5aa68_row3_col1 {\n",
       "  background-color: #f7f0f7;\n",
       "  color: #000000;\n",
       "}\n",
       "#T_5aa68_row3_col2 {\n",
       "  background-color: #fbf4f9;\n",
       "  color: #000000;\n",
       "}\n",
       "#T_5aa68_row3_col4 {\n",
       "  background-color: #f1ebf4;\n",
       "  color: #000000;\n",
       "}\n",
       "#T_5aa68_row4_col0 {\n",
       "  background-color: #fbf3f9;\n",
       "  color: #000000;\n",
       "}\n",
       "#T_5aa68_row4_col1 {\n",
       "  background-color: #d5d5e8;\n",
       "  color: #000000;\n",
       "}\n",
       "#T_5aa68_row4_col2 {\n",
       "  background-color: #589ec8;\n",
       "  color: #f1f1f1;\n",
       "}\n",
       "#T_5aa68_row4_col3 {\n",
       "  background-color: #f0eaf4;\n",
       "  color: #000000;\n",
       "}\n",
       "</style>\n",
       "<table id=\"T_5aa68_\">\n",
       "  <thead>\n",
       "    <tr>\n",
       "      <th class=\"blank level0\" >&nbsp;</th>\n",
       "      <th class=\"col_heading level0 col0\" >age</th>\n",
       "      <th class=\"col_heading level0 col1\" >bmi</th>\n",
       "      <th class=\"col_heading level0 col2\" >bloodpressure</th>\n",
       "      <th class=\"col_heading level0 col3\" >children</th>\n",
       "      <th class=\"col_heading level0 col4\" >claim</th>\n",
       "    </tr>\n",
       "  </thead>\n",
       "  <tbody>\n",
       "    <tr>\n",
       "      <th id=\"T_5aa68_level0_row0\" class=\"row_heading level0 row0\" >age</th>\n",
       "      <td id=\"T_5aa68_row0_col0\" class=\"data row0 col0\" >1.000000</td>\n",
       "      <td id=\"T_5aa68_row0_col1\" class=\"data row0 col1\" >-0.041919</td>\n",
       "      <td id=\"T_5aa68_row0_col2\" class=\"data row0 col2\" >-0.060247</td>\n",
       "      <td id=\"T_5aa68_row0_col3\" class=\"data row0 col3\" >-0.025508</td>\n",
       "      <td id=\"T_5aa68_row0_col4\" class=\"data row0 col4\" >-0.027857</td>\n",
       "    </tr>\n",
       "    <tr>\n",
       "      <th id=\"T_5aa68_level0_row1\" class=\"row_heading level0 row1\" >bmi</th>\n",
       "      <td id=\"T_5aa68_row1_col0\" class=\"data row1 col0\" >-0.041919</td>\n",
       "      <td id=\"T_5aa68_row1_col1\" class=\"data row1 col1\" >1.000000</td>\n",
       "      <td id=\"T_5aa68_row1_col2\" class=\"data row1 col2\" >0.143544</td>\n",
       "      <td id=\"T_5aa68_row1_col3\" class=\"data row1 col3\" >0.012092</td>\n",
       "      <td id=\"T_5aa68_row1_col4\" class=\"data row1 col4\" >0.197401</td>\n",
       "    </tr>\n",
       "    <tr>\n",
       "      <th id=\"T_5aa68_level0_row2\" class=\"row_heading level0 row2\" >bloodpressure</th>\n",
       "      <td id=\"T_5aa68_row2_col0\" class=\"data row2 col0\" >-0.060247</td>\n",
       "      <td id=\"T_5aa68_row2_col1\" class=\"data row2 col1\" >0.143544</td>\n",
       "      <td id=\"T_5aa68_row2_col2\" class=\"data row2 col2\" >1.000000</td>\n",
       "      <td id=\"T_5aa68_row2_col3\" class=\"data row2 col3\" >-0.031682</td>\n",
       "      <td id=\"T_5aa68_row2_col4\" class=\"data row2 col4\" >0.531341</td>\n",
       "    </tr>\n",
       "    <tr>\n",
       "      <th id=\"T_5aa68_level0_row3\" class=\"row_heading level0 row3\" >children</th>\n",
       "      <td id=\"T_5aa68_row3_col0\" class=\"data row3 col0\" >-0.025508</td>\n",
       "      <td id=\"T_5aa68_row3_col1\" class=\"data row3 col1\" >0.012092</td>\n",
       "      <td id=\"T_5aa68_row3_col2\" class=\"data row3 col2\" >-0.031682</td>\n",
       "      <td id=\"T_5aa68_row3_col3\" class=\"data row3 col3\" >1.000000</td>\n",
       "      <td id=\"T_5aa68_row3_col4\" class=\"data row3 col4\" >0.069233</td>\n",
       "    </tr>\n",
       "    <tr>\n",
       "      <th id=\"T_5aa68_level0_row4\" class=\"row_heading level0 row4\" >claim</th>\n",
       "      <td id=\"T_5aa68_row4_col0\" class=\"data row4 col0\" >-0.027857</td>\n",
       "      <td id=\"T_5aa68_row4_col1\" class=\"data row4 col1\" >0.197401</td>\n",
       "      <td id=\"T_5aa68_row4_col2\" class=\"data row4 col2\" >0.531341</td>\n",
       "      <td id=\"T_5aa68_row4_col3\" class=\"data row4 col3\" >0.069233</td>\n",
       "      <td id=\"T_5aa68_row4_col4\" class=\"data row4 col4\" >1.000000</td>\n",
       "    </tr>\n",
       "  </tbody>\n",
       "</table>\n"
      ],
      "text/plain": [
       "<pandas.io.formats.style.Styler at 0x1c695371160>"
      ]
     },
     "execution_count": 30,
     "metadata": {},
     "output_type": "execute_result"
    }
   ],
   "source": [
    "corr = df.corr()\n",
    "corr.style.background_gradient()"
   ]
  },
  {
   "cell_type": "markdown",
   "id": "9aec217f",
   "metadata": {},
   "source": [
    "## 2.1.1 What are the variables that have high correlation with claim?  \n",
    "(Note: Categorical variables are not included. We will do a correlation check of categorical variables using ...............................)\n",
    "1. Blood pressure has the highest correlation with claim amount. Correlation Percentage : 53%\n",
    "2. BMI has the second highest correlation with claim amount. Correlation percentage: 19.7 ~ 20%\n",
    "The rest of the variables : Age, Children has a very less correlation. This is expected as the scatter plots above showed the same thing. There was no any clear relationship observed. "
   ]
  },
  {
   "cell_type": "markdown",
   "id": "eb253058",
   "metadata": {},
   "source": [
    "##  2.1.2 Findings \n",
    "---------------------------------------------\n",
    "**1. Age - Claim** \n",
    "---------------------------------------------\n",
    "1. Age is not displaying any clear trend with claim. \n",
    "\n",
    "2. To study age further, we will look at the box-plots.\n",
    "\n",
    "3. This clearly contradicts our assuption that older people claim more.\n",
    "\n",
    "**We assumed a linear upward trend between age and claim and that is contradicted here**\n",
    "\n",
    "----------------------------------------------\n",
    "**2. BMI - Claim**\n",
    "----------------------------------------------\n",
    "1. We see a linear upward trend for a set of customers. As the BMI increases the claim seems to increase.\n",
    "\n",
    "2. A majority of customers with higher BMI don't seem to be claiming more, they seem to be claiming just like their lower BMI counterparts. \n",
    "\n",
    "**So, for the customers for whom a clear upward trend is seen, are there other factors affecting this? \n",
    "Like BP, smokers?** \n",
    "\n",
    "-------------------> This will be checked in our Multivariate Analysis \n",
    "\n",
    "---------------------------------------------------\n",
    "**3. Blood Pressure - claim**\n",
    "----------------------------------------------------------------\n",
    "1. There is some interesting and specific trend that is seen here \n",
    "\n",
    "2. A cut off at 100units(bp) is seen. Below 100 Bp, majority of the claims seem to be concentrated below a claim of 15000(approx).  \n",
    "\n",
    "3. Once the **BP crosses 100, no customer has a claim below 15,000 units**. So it can be clearly seen that an applicant with BP > 100 is a clear risky applicant. They have a very high chance of claiming more. \n",
    "\n",
    "4. **110 also seems like some kind of cutoff above which no customer has a claim below 30,000 units.**\n",
    "5.--------------> **We will use bucketing to segregate the customers with the above cutoffs : 100 BP,110 BP**. \n",
    "-----------------------------------------------------\n",
    "## 4. Children - Claim \n",
    "1. The scatter plot is not giving much information about claim in case of children \n",
    "\n",
    "2. We need to look at the **box plots for this to understand better** \n",
    "\n",
    "\n",
    "\n",
    "-------------------------------------------------------\n",
    "In the above plots we missed these variables as they are categorical in the data set \n",
    "1. Gender \n",
    "2. Diabetic \n",
    "3. smoker. \n",
    "\n",
    "We will look at the bar plots here \n",
    "\n",
    "----------------------------------------------\n"
   ]
  },
  {
   "cell_type": "markdown",
   "id": "71b3464e",
   "metadata": {},
   "source": [
    "## 5. Gender - Claim "
   ]
  },
  {
   "cell_type": "code",
   "execution_count": 31,
   "id": "177017db",
   "metadata": {},
   "outputs": [
    {
     "data": {
      "image/png": "[encoded data removed]",
      "text/plain": [
       "<Figure size 720x720 with 1 Axes>"
      ]
     },
     "metadata": {
      "needs_background": "light"
     },
     "output_type": "display_data"
    }
   ],
   "source": [
    "sns.boxplot(x = \"gender\",y= \"claim\",data = df)\n",
    "plt.gcf().set_size_inches(10, 10)\n",
    "plt.show()\n",
    "# Significant claims seen in men compared to women "
   ]
  },
  {
   "cell_type": "markdown",
   "id": "a3a7199e",
   "metadata": {},
   "source": [
    "### 5.1 Findings \n",
    "----------------------------------------------------\n",
    "1. We see that the median and minimum claims of men and women are nearly similar. \n",
    "\n",
    "**Is the average claims of men and women same?** \n",
    "\n",
    "We will do a Hypothesis testing here to check it. Expecting that they won't be similar. As the distributions are really different."
   ]
  },
  {
   "cell_type": "markdown",
   "id": "0e6bf994",
   "metadata": {},
   "source": [
    "### 5.1.1 Hypothesis testing \n",
    "**Is the mean claim of men and women same in the population?**\n",
    "\n",
    "#A chi_square test of independence needs to be done here. "
   ]
  },
  {
   "cell_type": "markdown",
   "id": "75119f56",
   "metadata": {},
   "source": [
    "---------------------------------------------\n",
    "###### Getting requisite values from data\n",
    "--------------------------------------------"
   ]
  },
  {
   "cell_type": "code",
   "execution_count": 32,
   "id": "bb368594",
   "metadata": {},
   "outputs": [
    {
     "data": {
      "text/plain": [
       "gender\n",
       "female    12569.578897\n",
       "male      13919.790457\n",
       "Name: claim, dtype: float64"
      ]
     },
     "execution_count": 32,
     "metadata": {},
     "output_type": "execute_result"
    }
   ],
   "source": [
    "# Getting the  mean claim by the gender\n",
    "df.groupby([\"gender\"])['claim'].mean()\n"
   ]
  },
  {
   "cell_type": "markdown",
   "id": "4c309db7",
   "metadata": {},
   "source": [
    "The difference in the mean claim of men and women is 1,350 dollars. "
   ]
  },
  {
   "cell_type": "code",
   "execution_count": 33,
   "id": "3afd506f",
   "metadata": {},
   "outputs": [
    {
     "data": {
      "text/plain": [
       "gender\n",
       "female    11128.703817\n",
       "male      12969.700466\n",
       "Name: claim, dtype: float64"
      ]
     },
     "execution_count": 33,
     "metadata": {},
     "output_type": "execute_result"
    }
   ],
   "source": [
    "# Getting the std of the claim by the gender\n",
    "df.groupby([\"gender\"])['claim'].std()"
   ]
  },
  {
   "cell_type": "code",
   "execution_count": 34,
   "id": "4307fade",
   "metadata": {},
   "outputs": [
    {
     "data": {
      "text/html": [
       "<div>\n",
       "<style scoped>\n",
       "    .dataframe tbody tr th:only-of-type {\n",
       "        vertical-align: middle;\n",
       "    }\n",
       "\n",
       "    .dataframe tbody tr th {\n",
       "        vertical-align: top;\n",
       "    }\n",
       "\n",
       "    .dataframe thead th {\n",
       "        text-align: right;\n",
       "    }\n",
       "</style>\n",
       "<table border=\"1\" class=\"dataframe\">\n",
       "  <thead>\n",
       "    <tr style=\"text-align: right;\">\n",
       "      <th></th>\n",
       "      <th>age</th>\n",
       "      <th>bmi</th>\n",
       "      <th>bloodpressure</th>\n",
       "      <th>diabetic</th>\n",
       "      <th>children</th>\n",
       "      <th>smoker</th>\n",
       "      <th>region</th>\n",
       "      <th>claim</th>\n",
       "    </tr>\n",
       "    <tr>\n",
       "      <th>gender</th>\n",
       "      <th></th>\n",
       "      <th></th>\n",
       "      <th></th>\n",
       "      <th></th>\n",
       "      <th></th>\n",
       "      <th></th>\n",
       "      <th></th>\n",
       "      <th></th>\n",
       "    </tr>\n",
       "  </thead>\n",
       "  <tbody>\n",
       "    <tr>\n",
       "      <th>female</th>\n",
       "      <td>662</td>\n",
       "      <td>662</td>\n",
       "      <td>662</td>\n",
       "      <td>662</td>\n",
       "      <td>662</td>\n",
       "      <td>662</td>\n",
       "      <td>662</td>\n",
       "      <td>662</td>\n",
       "    </tr>\n",
       "    <tr>\n",
       "      <th>male</th>\n",
       "      <td>678</td>\n",
       "      <td>678</td>\n",
       "      <td>678</td>\n",
       "      <td>678</td>\n",
       "      <td>678</td>\n",
       "      <td>678</td>\n",
       "      <td>678</td>\n",
       "      <td>678</td>\n",
       "    </tr>\n",
       "  </tbody>\n",
       "</table>\n",
       "</div>"
      ],
      "text/plain": [
       "        age  bmi  bloodpressure  diabetic  children  smoker  region  claim\n",
       "gender                                                                    \n",
       "female  662  662            662       662       662     662     662    662\n",
       "male    678  678            678       678       678     678     678    678"
      ]
     },
     "execution_count": 34,
     "metadata": {},
     "output_type": "execute_result"
    }
   ],
   "source": [
    "# Getting the count of female and male respectively\n",
    "df.groupby([\"gender\"]).count()"
   ]
  },
  {
   "cell_type": "markdown",
   "id": "75b9057d",
   "metadata": {},
   "source": [
    "------------------------------------\n",
    "##### Hypothesis Test \n",
    "-----------------------------------------"
   ]
  },
  {
   "cell_type": "markdown",
   "id": "d08b1a0b",
   "metadata": {},
   "source": [
    "##### Null Hypothesis: The average claim of the men and women is equal\n",
    "##### Alternate Hypothesis: The average claim of the men and women is not equal"
   ]
  },
  {
   "cell_type": "code",
   "execution_count": 35,
   "id": "912d5d2b",
   "metadata": {},
   "outputs": [
    {
     "data": {
      "text/plain": [
       "-2.046753579049191"
      ]
     },
     "execution_count": 35,
     "metadata": {},
     "output_type": "execute_result"
    }
   ],
   "source": [
    "# H0 : Mean(mean) = mean(women), so x1-x2 = 0 #Two tail test \n",
    "# Ha : mean(men) != mean(women)\n",
    "alpha = 0.05 \n",
    "x1 = 12569.578897 #Female\n",
    "x2= 13919.790457 #Male\n",
    "sig1 = 11128.703817 #Female\n",
    "sig2 = 12969.700466 #Male \n",
    "n1 = 662 #Fm \n",
    "n2 = 678 #M\n",
    "z = (x1-x2)/((sig1**2/n1)+(sig2**2/n2))**0.5\n",
    "z\n",
    "# using the Z static method"
   ]
  },
  {
   "cell_type": "code",
   "execution_count": 36,
   "id": "eade046c",
   "metadata": {},
   "outputs": [
    {
     "data": {
      "text/plain": [
       "-1.9599639845400545"
      ]
     },
     "execution_count": 36,
     "metadata": {},
     "output_type": "execute_result"
    }
   ],
   "source": [
    "zcrit = stats.norm.ppf(0.05/2)\n",
    "zcrit"
   ]
  },
  {
   "cell_type": "code",
   "execution_count": 37,
   "id": "1f2e4edd",
   "metadata": {},
   "outputs": [
    {
     "data": {
      "text/plain": [
       "0.040756370674284524"
      ]
     },
     "execution_count": 37,
     "metadata": {},
     "output_type": "execute_result"
    }
   ],
   "source": [
    "#Using the p value method \n",
    "2*stats.norm.cdf(-2.046)"
   ]
  },
  {
   "cell_type": "markdown",
   "id": "cc3fdf1c",
   "metadata": {},
   "source": [
    "Null Hypothesis is rejected."
   ]
  },
  {
   "cell_type": "markdown",
   "id": "30aa431d",
   "metadata": {},
   "source": [
    "-----------------------------------------------\n",
    "###### Conclusion : \n",
    "\n",
    "1. Z- stat is less than z critical \n",
    "2. P- value is less than the significance level \n",
    "3. So, we conclude that **for the population, there is a statistically significant difference between average claims of men and women**. "
   ]
  },
  {
   "cell_type": "markdown",
   "id": "7c9355af",
   "metadata": {},
   "source": [
    "2. Like assumed, the maximum claim for women is much lesser than the maximum claim for men. \n",
    "\n",
    "3. For the 50% of women, the claim is not as widely distributed as claims for men. \n",
    "\n",
    "4. So, though the average claim of men and women seems equal, there is a higher chance for men to claim more than 10,000 units ( In the distribution, 50% of the customers fall in this category). "
   ]
  },
  {
   "cell_type": "markdown",
   "id": "e18ddc76",
   "metadata": {},
   "source": [
    "## 6. Diabetic - Claim \n",
    "1. Like already mentioned, we are assuming that having diabetes will make a difference in the claim amount. It will be more. Let's see that. "
   ]
  },
  {
   "cell_type": "code",
   "execution_count": 38,
   "id": "9fe20fd3",
   "metadata": {},
   "outputs": [
    {
     "data": {
      "image/png": "[encoded data removed]",
      "text/plain": [
       "<Figure size 432x360 with 1 Axes>"
      ]
     },
     "metadata": {
      "needs_background": "light"
     },
     "output_type": "display_data"
    }
   ],
   "source": [
    "sns.boxplot(x = \"diabetic\",y= \"claim\",data = df)\n",
    "plt.gcf().set_size_inches(6, 5)\n",
    "\n",
    "plt.show()\n",
    "#Daiabetic mean claim seems same. Which is odd. So we are testing to see if they are really equal \n",
    "#The distributions of both the claims look same. \n",
    "#Even the mean is same? Is the average claim of diabetic and non diabetic patients same?"
   ]
  },
  {
   "cell_type": "markdown",
   "id": "ff2b8860",
   "metadata": {},
   "source": [
    "# 6.1 Hypothesis\n",
    "## Our Claim : \n",
    "The average claim of diabetic patients and non diabetic patients will be different.   \n",
    "H0 : The average claim of diabetic and non diabetic patients are same.  \n",
    "H1 : The average claim of diabetic and non diabetic patients are different. "
   ]
  },
  {
   "cell_type": "code",
   "execution_count": 39,
   "id": "3b03e5d6",
   "metadata": {},
   "outputs": [
    {
     "data": {
      "text/plain": [
       "diabetic\n",
       "No     13354.031991\n",
       "Yes    13142.624346\n",
       "Name: claim, dtype: float64"
      ]
     },
     "execution_count": 39,
     "metadata": {},
     "output_type": "execute_result"
    }
   ],
   "source": [
    "# Getting the mean claim for customers with and without diabetes\n",
    "df.groupby([\"diabetic\"])['claim'].mean()"
   ]
  },
  {
   "cell_type": "code",
   "execution_count": 40,
   "id": "859ede27",
   "metadata": {},
   "outputs": [
    {
     "data": {
      "text/plain": [
       "diabetic\n",
       "No     12275.376160\n",
       "Yes    11935.356153\n",
       "Name: claim, dtype: float64"
      ]
     },
     "execution_count": 40,
     "metadata": {},
     "output_type": "execute_result"
    }
   ],
   "source": [
    "# Getting the standard deviation of claim for customers with and without diabetes\n",
    "df.groupby([\"diabetic\"])['claim'].std()"
   ]
  },
  {
   "cell_type": "code",
   "execution_count": 41,
   "id": "2c747633",
   "metadata": {},
   "outputs": [
    {
     "data": {
      "text/plain": [
       "diabetic\n",
       "No     698\n",
       "Yes    642\n",
       "Name: claim, dtype: int64"
      ]
     },
     "execution_count": 41,
     "metadata": {},
     "output_type": "execute_result"
    }
   ],
   "source": [
    "# Getting the count of customers with and without diabetes\n",
    "df.groupby([\"diabetic\"])['claim'].count()"
   ]
  },
  {
   "cell_type": "code",
   "execution_count": 42,
   "id": "9841bf83",
   "metadata": {},
   "outputs": [
    {
     "data": {
      "text/plain": [
       "(-0.3195235063532939, 0.3782804781779807)"
      ]
     },
     "execution_count": 42,
     "metadata": {},
     "output_type": "execute_result"
    }
   ],
   "source": [
    "# H0 : mean claim(diabetes) = mean claim(without diabetes)\n",
    "# HA : mean claim(diabetes) != mean claim(without diabetes) \n",
    "\n",
    "alpha = 0.05 \n",
    "x1 = 13142.62  #yes\n",
    "x2 = 13354.03 #no\n",
    "sig1 = 11935.35\n",
    "sig2 = 12275.37\n",
    "n1 = 642\n",
    "n2 = 698 \n",
    "z = (x1-x2)/((sig1**2/n1)+(sig2**2/n2))**0.5\n",
    "z\n",
    "pv = stats.norm.cdf(-0.31)\n",
    "z, pv  \n",
    "#Alpha = 0.05 "
   ]
  },
  {
   "cell_type": "markdown",
   "id": "f8e0ce9a",
   "metadata": {},
   "source": [
    "##### We fail to reject null hypothesis as pvalue>alpha. The difference in mean claim between people with diabetic and people without diabetic is not statistically significant."
   ]
  },
  {
   "cell_type": "markdown",
   "id": "c60e4842",
   "metadata": {},
   "source": [
    "## 7. Children - Claim \n",
    "We did not observe any clear pattern between number of children and claim amount. We should look at boxplots to figure out if we can get any insights"
   ]
  },
  {
   "cell_type": "code",
   "execution_count": 43,
   "id": "fa7aa37e",
   "metadata": {},
   "outputs": [
    {
     "data": {
      "image/png": "[encoded data removed]",
      "text/plain": [
       "<Figure size 432x360 with 1 Axes>"
      ]
     },
     "metadata": {
      "needs_background": "light"
     },
     "output_type": "display_data"
    }
   ],
   "source": [
    "sns.boxplot(x = \"children\",y= \"claim\",data = df)\n",
    "plt.gcf().set_size_inches(6, 5)\n",
    "\n",
    "plt.show()"
   ]
  },
  {
   "cell_type": "markdown",
   "id": "40f137f9",
   "metadata": {},
   "source": [
    "## 7.1 Observations: \n",
    "1. The distribution of claims for people with 2 and 3 children is more spread out than for others. This means that, if a person has 2/3 children, there is a higher chance for him to claim an amount more than 10K units which seems to be the median claim of every category \n",
    "2. For people with 5 children, the claim amount is not even above 20K units. \n",
    "3. For other categories it is similar, with 4 children category claiming a maximum of around 25K. the other two categories are at a maximum claim of 30K \n",
    "4. **This, doesn't show any clear trend**\n",
    "5. Assuming that correlation between number of children and claim amount will come out to be very low. Is that so? "
   ]
  },
  {
   "cell_type": "markdown",
   "id": "7f8eeec7",
   "metadata": {},
   "source": [
    "## 7.1.2 Feature Engineering idea : Can reducing to two or three categories as having and not having children make a difference on the amount claimed? \n",
    "This comes from the assumption that people with children will cover their family (including Children) in their insurance policy. \n",
    "We have to make these two bins and see if that makes a difference in claim amounts. "
   ]
  },
  {
   "cell_type": "code",
   "execution_count": 45,
   "id": "4f09e4de",
   "metadata": {},
   "outputs": [
    {
     "data": {
      "text/plain": [
       "0       0\n",
       "1       0\n",
       "2       0\n",
       "3       0\n",
       "4       0\n",
       "       ..\n",
       "1335    0\n",
       "1336    1\n",
       "1337    3\n",
       "1338    0\n",
       "1339    0\n",
       "Name: children, Length: 1340, dtype: int64"
      ]
     },
     "execution_count": 45,
     "metadata": {},
     "output_type": "execute_result"
    }
   ],
   "source": [
    "df.children"
   ]
  },
  {
   "cell_type": "code",
   "execution_count": 46,
   "id": "cb96e5a1",
   "metadata": {},
   "outputs": [],
   "source": [
    "# Changing the children column as 0 and 1. 0 representing people with no children and 1 representing people with 1 or more\n",
    "# children, in our case 1,2,3,4,5 childrens are classified as 1.\n",
    "\n",
    "# children 0 = 0 , 1,2,3,4,5 = 1\n",
    "df[\"children\"] = df[\"children\"].replace([1,2,3,4,5], 1)"
   ]
  },
  {
   "cell_type": "code",
   "execution_count": 47,
   "id": "07dd9f5d",
   "metadata": {},
   "outputs": [
    {
     "data": {
      "image/png": "[encoded data removed]",
      "text/plain": [
       "<Figure size 432x360 with 1 Axes>"
      ]
     },
     "metadata": {
      "needs_background": "light"
     },
     "output_type": "display_data"
    }
   ],
   "source": [
    "sns.boxplot(x = \"children\",y= \"claim\",data = df)\n",
    "plt.gcf().set_size_inches(6, 5)\n",
    "\n",
    "plt.show()"
   ]
  },
  {
   "cell_type": "markdown",
   "id": "21bcdbcb",
   "metadata": {},
   "source": [
    "## 7.1.2.1 Observations: \n",
    "1. Maximum claim of people with children is higher than people with no children. This does't adequately justify that people with children claim more. \n",
    "2. Looking at Q3, among the 25% of the customers with children, claim is spread out between 10K - nearly 20K, for no children the spread is almost half. \n",
    "3. Now, will this tell us that, if a person with children has high chance of claiming more? "
   ]
  },
  {
   "cell_type": "markdown",
   "id": "b98401a5",
   "metadata": {},
   "source": [
    "# 8. Smoker"
   ]
  },
  {
   "cell_type": "code",
   "execution_count": 48,
   "id": "ecb5f5fc",
   "metadata": {},
   "outputs": [
    {
     "data": {
      "image/png": "[encoded data removed]",
      "text/plain": [
       "<Figure size 432x360 with 1 Axes>"
      ]
     },
     "metadata": {
      "needs_background": "light"
     },
     "output_type": "display_data"
    }
   ],
   "source": [
    "# Getting the boxplot for smoker and claim\n",
    "sns.boxplot(x = \"smoker\",y= \"claim\",data = df)\n",
    "plt.gcf().set_size_inches(6, 5)\n",
    "\n",
    "plt.show()"
   ]
  },
  {
   "cell_type": "markdown",
   "id": "92950839",
   "metadata": {},
   "source": [
    "### Observation:  \n",
    "From the above boxplot, it is clearly understood that the people who smoke claim more amount compared to people who do not smoke."
   ]
  },
  {
   "cell_type": "markdown",
   "id": "3b727748",
   "metadata": {},
   "source": [
    "## 9. Region"
   ]
  },
  {
   "cell_type": "code",
   "execution_count": 49,
   "id": "1628f50d",
   "metadata": {},
   "outputs": [
    {
     "data": {
      "image/png": "[encoded data removed]",
      "text/plain": [
       "<Figure size 432x360 with 1 Axes>"
      ]
     },
     "metadata": {
      "needs_background": "light"
     },
     "output_type": "display_data"
    }
   ],
   "source": [
    "sns.boxplot(x = \"region\",y= \"claim\",data = df)\n",
    "plt.gcf().set_size_inches(6, 5)\n",
    "\n",
    "plt.show()\n",
    "# All regions seem to have a same mean claim. Is the claim difference between these regions statistically significant? "
   ]
  },
  {
   "cell_type": "markdown",
   "id": "588ec1c3",
   "metadata": {},
   "source": [
    "## Hypothesis: \n",
    "**Null Hypothesis: Mean claim of all 3 regions - Southeast, Northwest and Southwest is same**  \n",
    "**Alternate Hypothesis: Mean claim of all 3 regions - Southeast, Northwest and Southwest are not same**\n",
    "\n",
    "We are including only the above 3 regions to test the mean claim because from the above boxplot we can clearly see that mean claim of the northeast region is higher compared to the other 3 regions.   \n",
    "Hence, we are excluding the northeast region from our hypothesis test."
   ]
  },
  {
   "cell_type": "code",
   "execution_count": 50,
   "id": "30442f92",
   "metadata": {},
   "outputs": [],
   "source": [
    "# 3 populations so doing an ANOVA test \n",
    "#Creating a list of 3 separate samples from region column and preparing the data for ANOVA test\n",
    "region = df.region.tolist()"
   ]
  },
  {
   "cell_type": "code",
   "execution_count": 51,
   "id": "6c783eff",
   "metadata": {},
   "outputs": [],
   "source": [
    "n1 = 446 #south east \n",
    "n2 = 349 #north west \n",
    "n3 = 314 #south west\n",
    "n = n1+n2+n3\n",
    "r = 3"
   ]
  },
  {
   "cell_type": "code",
   "execution_count": 52,
   "id": "b2587a93",
   "metadata": {},
   "outputs": [
    {
     "data": {
      "text/html": [
       "<div>\n",
       "<style scoped>\n",
       "    .dataframe tbody tr th:only-of-type {\n",
       "        vertical-align: middle;\n",
       "    }\n",
       "\n",
       "    .dataframe tbody tr th {\n",
       "        vertical-align: top;\n",
       "    }\n",
       "\n",
       "    .dataframe thead th {\n",
       "        text-align: right;\n",
       "    }\n",
       "</style>\n",
       "<table border=\"1\" class=\"dataframe\">\n",
       "  <thead>\n",
       "    <tr style=\"text-align: right;\">\n",
       "      <th></th>\n",
       "      <th>region</th>\n",
       "      <th>claim</th>\n",
       "    </tr>\n",
       "  </thead>\n",
       "  <tbody>\n",
       "    <tr>\n",
       "      <th>0</th>\n",
       "      <td>southeast</td>\n",
       "      <td>1121.87</td>\n",
       "    </tr>\n",
       "    <tr>\n",
       "      <th>1</th>\n",
       "      <td>southeast</td>\n",
       "      <td>1131.51</td>\n",
       "    </tr>\n",
       "    <tr>\n",
       "      <th>2</th>\n",
       "      <td>southeast</td>\n",
       "      <td>1135.94</td>\n",
       "    </tr>\n",
       "    <tr>\n",
       "      <th>3</th>\n",
       "      <td>northwest</td>\n",
       "      <td>1136.4</td>\n",
       "    </tr>\n",
       "    <tr>\n",
       "      <th>4</th>\n",
       "      <td>northwest</td>\n",
       "      <td>1137.01</td>\n",
       "    </tr>\n",
       "    <tr>\n",
       "      <th>...</th>\n",
       "      <td>...</td>\n",
       "      <td>...</td>\n",
       "    </tr>\n",
       "    <tr>\n",
       "      <th>1335</th>\n",
       "      <td>northwest</td>\n",
       "      <td>55135.4</td>\n",
       "    </tr>\n",
       "    <tr>\n",
       "      <th>1336</th>\n",
       "      <td>northeast</td>\n",
       "      <td>58571.07</td>\n",
       "    </tr>\n",
       "    <tr>\n",
       "      <th>1337</th>\n",
       "      <td>northwest</td>\n",
       "      <td>60021.4</td>\n",
       "    </tr>\n",
       "    <tr>\n",
       "      <th>1338</th>\n",
       "      <td>southeast</td>\n",
       "      <td>62592.87</td>\n",
       "    </tr>\n",
       "    <tr>\n",
       "      <th>1339</th>\n",
       "      <td>southeast</td>\n",
       "      <td>63770.43</td>\n",
       "    </tr>\n",
       "  </tbody>\n",
       "</table>\n",
       "<p>1340 rows × 2 columns</p>\n",
       "</div>"
      ],
      "text/plain": [
       "         region     claim\n",
       "0     southeast   1121.87\n",
       "1     southeast   1131.51\n",
       "2     southeast   1135.94\n",
       "3     northwest    1136.4\n",
       "4     northwest   1137.01\n",
       "...         ...       ...\n",
       "1335  northwest   55135.4\n",
       "1336  northeast  58571.07\n",
       "1337  northwest   60021.4\n",
       "1338  southeast  62592.87\n",
       "1339  southeast  63770.43\n",
       "\n",
       "[1340 rows x 2 columns]"
      ]
     },
     "execution_count": 52,
     "metadata": {},
     "output_type": "execute_result"
    }
   ],
   "source": [
    "#Creating a list of claims and combining region and claim in a new dataframe\n",
    "claim = df.claim.tolist()\n",
    "region_claim = pd.DataFrame(np.column_stack([region, claim]), \n",
    "                               columns=['region', 'claim'])\n",
    "region_claim"
   ]
  },
  {
   "cell_type": "code",
   "execution_count": 53,
   "id": "80718bca",
   "metadata": {},
   "outputs": [
    {
     "data": {
      "text/html": [
       "<div>\n",
       "<style scoped>\n",
       "    .dataframe tbody tr th:only-of-type {\n",
       "        vertical-align: middle;\n",
       "    }\n",
       "\n",
       "    .dataframe tbody tr th {\n",
       "        vertical-align: top;\n",
       "    }\n",
       "\n",
       "    .dataframe thead th {\n",
       "        text-align: right;\n",
       "    }\n",
       "</style>\n",
       "<table border=\"1\" class=\"dataframe\">\n",
       "  <thead>\n",
       "    <tr style=\"text-align: right;\">\n",
       "      <th>region</th>\n",
       "      <th>northeast</th>\n",
       "      <th>northwest</th>\n",
       "      <th>southeast</th>\n",
       "      <th>southwest</th>\n",
       "    </tr>\n",
       "  </thead>\n",
       "  <tbody>\n",
       "    <tr>\n",
       "      <th>0</th>\n",
       "      <td>NaN</td>\n",
       "      <td>NaN</td>\n",
       "      <td>1121.87</td>\n",
       "      <td>NaN</td>\n",
       "    </tr>\n",
       "    <tr>\n",
       "      <th>1</th>\n",
       "      <td>NaN</td>\n",
       "      <td>NaN</td>\n",
       "      <td>1131.51</td>\n",
       "      <td>NaN</td>\n",
       "    </tr>\n",
       "    <tr>\n",
       "      <th>2</th>\n",
       "      <td>NaN</td>\n",
       "      <td>NaN</td>\n",
       "      <td>1135.94</td>\n",
       "      <td>NaN</td>\n",
       "    </tr>\n",
       "    <tr>\n",
       "      <th>3</th>\n",
       "      <td>NaN</td>\n",
       "      <td>1136.4</td>\n",
       "      <td>NaN</td>\n",
       "      <td>NaN</td>\n",
       "    </tr>\n",
       "    <tr>\n",
       "      <th>4</th>\n",
       "      <td>NaN</td>\n",
       "      <td>1137.01</td>\n",
       "      <td>NaN</td>\n",
       "      <td>NaN</td>\n",
       "    </tr>\n",
       "    <tr>\n",
       "      <th>...</th>\n",
       "      <td>...</td>\n",
       "      <td>...</td>\n",
       "      <td>...</td>\n",
       "      <td>...</td>\n",
       "    </tr>\n",
       "    <tr>\n",
       "      <th>1335</th>\n",
       "      <td>NaN</td>\n",
       "      <td>55135.4</td>\n",
       "      <td>NaN</td>\n",
       "      <td>NaN</td>\n",
       "    </tr>\n",
       "    <tr>\n",
       "      <th>1336</th>\n",
       "      <td>58571.07</td>\n",
       "      <td>NaN</td>\n",
       "      <td>NaN</td>\n",
       "      <td>NaN</td>\n",
       "    </tr>\n",
       "    <tr>\n",
       "      <th>1337</th>\n",
       "      <td>NaN</td>\n",
       "      <td>60021.4</td>\n",
       "      <td>NaN</td>\n",
       "      <td>NaN</td>\n",
       "    </tr>\n",
       "    <tr>\n",
       "      <th>1338</th>\n",
       "      <td>NaN</td>\n",
       "      <td>NaN</td>\n",
       "      <td>62592.87</td>\n",
       "      <td>NaN</td>\n",
       "    </tr>\n",
       "    <tr>\n",
       "      <th>1339</th>\n",
       "      <td>NaN</td>\n",
       "      <td>NaN</td>\n",
       "      <td>63770.43</td>\n",
       "      <td>NaN</td>\n",
       "    </tr>\n",
       "  </tbody>\n",
       "</table>\n",
       "<p>1340 rows × 4 columns</p>\n",
       "</div>"
      ],
      "text/plain": [
       "region northeast northwest southeast southwest\n",
       "0            NaN       NaN   1121.87       NaN\n",
       "1            NaN       NaN   1131.51       NaN\n",
       "2            NaN       NaN   1135.94       NaN\n",
       "3            NaN    1136.4       NaN       NaN\n",
       "4            NaN   1137.01       NaN       NaN\n",
       "...          ...       ...       ...       ...\n",
       "1335         NaN   55135.4       NaN       NaN\n",
       "1336    58571.07       NaN       NaN       NaN\n",
       "1337         NaN   60021.4       NaN       NaN\n",
       "1338         NaN       NaN  62592.87       NaN\n",
       "1339         NaN       NaN  63770.43       NaN\n",
       "\n",
       "[1340 rows x 4 columns]"
      ]
     },
     "execution_count": 53,
     "metadata": {},
     "output_type": "execute_result"
    }
   ],
   "source": [
    "# Pivoting the new dataframe with column names as regions and their claims\n",
    "region_claim=region_claim.pivot(columns='region', values='claim')\n",
    "region_claim"
   ]
  },
  {
   "cell_type": "code",
   "execution_count": 54,
   "id": "5a53a9db",
   "metadata": {},
   "outputs": [
    {
     "data": {
      "text/plain": [
       "['1121.87',\n",
       " '1131.51',\n",
       " '1135.94',\n",
       " '1252.41',\n",
       " '1253.94',\n",
       " '1256.3',\n",
       " '1391.53',\n",
       " '1515.34',\n",
       " '1532.47',\n",
       " '1534.3',\n",
       " '1607.51',\n",
       " '1615.77',\n",
       " '1621.88',\n",
       " '1622.19',\n",
       " '1629.83',\n",
       " '1631.67',\n",
       " '1631.82',\n",
       " '1633.04',\n",
       " '1633.96',\n",
       " '1634.57',\n",
       " '1665.0',\n",
       " '1674.63',\n",
       " '1719.44',\n",
       " '1720.35',\n",
       " '1725.55',\n",
       " '1727.54',\n",
       " '1815.88',\n",
       " '1824.29',\n",
       " '1837.28',\n",
       " '1877.93',\n",
       " '1880.07',\n",
       " '1981.58',\n",
       " '1984.45',\n",
       " '1986.93',\n",
       " '2020.55',\n",
       " '2026.97',\n",
       " '2137.65',\n",
       " '2155.68',\n",
       " '2156.75',\n",
       " '2196.47',\n",
       " '2198.19',\n",
       " '2200.83',\n",
       " '2201.1',\n",
       " '2203.47',\n",
       " '2203.74',\n",
       " '2205.98',\n",
       " '2207.7',\n",
       " '2211.13',\n",
       " '2217.47',\n",
       " '2217.6',\n",
       " '2219.45',\n",
       " '2304.0',\n",
       " '2322.62',\n",
       " '2395.17',\n",
       " '2396.1',\n",
       " '2438.06',\n",
       " '2457.21',\n",
       " '2459.72',\n",
       " '2464.62',\n",
       " '2473.33',\n",
       " '2480.98',\n",
       " '2483.74',\n",
       " '2497.04',\n",
       " '2498.41',\n",
       " '2566.47',\n",
       " '2585.85',\n",
       " '2689.5',\n",
       " '2721.32',\n",
       " '2727.4',\n",
       " '2731.91',\n",
       " '2741.95',\n",
       " '2801.26',\n",
       " '2867.12',\n",
       " '2902.91',\n",
       " '2927.06',\n",
       " '3056.39',\n",
       " '3171.61',\n",
       " '3180.51',\n",
       " '3227.12',\n",
       " '3238.44',\n",
       " '3366.67',\n",
       " '3392.37',\n",
       " '3392.98',\n",
       " '3393.36',\n",
       " '3471.41',\n",
       " '3481.87',\n",
       " '3490.55',\n",
       " '3500.61',\n",
       " '3558.62',\n",
       " '3561.89',\n",
       " '3704.35',\n",
       " '3756.62',\n",
       " '3757.84',\n",
       " '3766.88',\n",
       " '3875.73',\n",
       " '3935.18',\n",
       " '3947.41',\n",
       " '3972.92',\n",
       " '3981.98',\n",
       " '3994.18',\n",
       " '4058.12',\n",
       " '4074.45',\n",
       " '4137.52',\n",
       " '4151.03',\n",
       " '4185.1',\n",
       " '4237.13',\n",
       " '4266.17',\n",
       " '4337.74',\n",
       " '4340.44',\n",
       " '4347.02',\n",
       " '4349.46',\n",
       " '4350.51',\n",
       " '4399.73',\n",
       " '4415.16',\n",
       " '4428.89',\n",
       " '4435.09',\n",
       " '4438.26',\n",
       " '4441.21',\n",
       " '4449.46',\n",
       " '4463.21',\n",
       " '4500.34',\n",
       " '4504.66',\n",
       " '4518.83',\n",
       " '4544.23',\n",
       " '4561.19',\n",
       " '4562.84',\n",
       " '4564.19',\n",
       " '4661.29',\n",
       " '4667.61',\n",
       " '4673.39',\n",
       " '4686.39',\n",
       " '4718.2',\n",
       " '4719.52',\n",
       " '4747.05',\n",
       " '4753.64',\n",
       " '4779.6',\n",
       " '4795.66',\n",
       " '4827.9',\n",
       " '4837.58',\n",
       " '4846.92',\n",
       " '4889.04',\n",
       " '4890.0',\n",
       " '4915.06',\n",
       " '4949.76',\n",
       " '4992.38',\n",
       " '5002.78',\n",
       " '5031.27',\n",
       " '5124.19',\n",
       " '5138.26',\n",
       " '5148.55',\n",
       " '5209.58',\n",
       " '5227.99',\n",
       " '5245.23',\n",
       " '5354.07',\n",
       " '5397.62',\n",
       " '5400.98',\n",
       " '5415.66',\n",
       " '5428.73',\n",
       " '5438.75',\n",
       " '5458.05',\n",
       " '5469.01',\n",
       " '5478.04',\n",
       " '5484.47',\n",
       " '5584.31',\n",
       " '5594.85',\n",
       " '5662.23',\n",
       " '5699.84',\n",
       " '5709.16',\n",
       " '5757.41',\n",
       " '5836.52',\n",
       " '5846.92',\n",
       " '5920.1',\n",
       " '5934.38',\n",
       " '5966.89',\n",
       " '5974.38',\n",
       " '5976.83',\n",
       " '6067.13',\n",
       " '6079.67',\n",
       " '6113.23',\n",
       " '6184.3',\n",
       " '6185.32',\n",
       " '6272.48',\n",
       " '6289.75',\n",
       " '6313.76',\n",
       " '6334.34',\n",
       " '6338.08',\n",
       " '6356.27',\n",
       " '6402.29',\n",
       " '6406.41',\n",
       " '6435.62',\n",
       " '6500.24',\n",
       " '6551.75',\n",
       " '6555.07',\n",
       " '6593.51',\n",
       " '6600.21',\n",
       " '6610.11',\n",
       " '6640.54',\n",
       " '6652.53',\n",
       " '6653.79',\n",
       " '6746.74',\n",
       " '6748.59',\n",
       " '6753.04',\n",
       " '6770.19',\n",
       " '6781.35',\n",
       " '6799.46',\n",
       " '6837.37',\n",
       " '6858.48',\n",
       " '6877.98',\n",
       " '6985.51',\n",
       " '7046.72',\n",
       " '7050.02',\n",
       " '7077.19',\n",
       " '7133.9',\n",
       " '7144.86',\n",
       " '7147.47',\n",
       " '7152.67',\n",
       " '7160.33',\n",
       " '7162.01',\n",
       " '7173.36',\n",
       " '7228.22',\n",
       " '7243.81',\n",
       " '7323.73',\n",
       " '7325.05',\n",
       " '7345.73',\n",
       " '7358.18',\n",
       " '7448.4',\n",
       " '7633.72',\n",
       " '7639.42',\n",
       " '7640.31',\n",
       " '7650.77',\n",
       " '7682.67',\n",
       " '7729.65',\n",
       " '7731.43',\n",
       " '7742.11',\n",
       " '7789.64',\n",
       " '7804.16',\n",
       " '8083.92',\n",
       " '8124.41',\n",
       " '8125.78',\n",
       " '8211.1',\n",
       " '8219.2',\n",
       " '8232.64',\n",
       " '8233.1',\n",
       " '8240.59',\n",
       " '8280.62',\n",
       " '8283.68',\n",
       " '8347.16',\n",
       " '8442.67',\n",
       " '8515.76',\n",
       " '8516.83',\n",
       " '8527.53',\n",
       " '8547.69',\n",
       " '8569.86',\n",
       " '8582.3',\n",
       " '8596.83',\n",
       " '8601.33',\n",
       " '8605.36',\n",
       " '8871.15',\n",
       " '8944.12',\n",
       " '8978.19',\n",
       " '9048.03',\n",
       " '9058.73',\n",
       " '9140.95',\n",
       " '9283.56',\n",
       " '9304.7',\n",
       " '9377.9',\n",
       " '9386.16',\n",
       " '9487.64',\n",
       " '9504.31',\n",
       " '9549.57',\n",
       " '9748.91',\n",
       " '9788.87',\n",
       " '9800.89',\n",
       " '9855.13',\n",
       " '9877.61',\n",
       " '10107.22',\n",
       " '10226.28',\n",
       " '10338.93',\n",
       " '10381.48',\n",
       " '10560.49',\n",
       " '10579.71',\n",
       " '10594.23',\n",
       " '10702.64',\n",
       " '10807.49',\n",
       " '10928.85',\n",
       " '10977.21',\n",
       " '10982.5',\n",
       " '11013.71',\n",
       " '11090.72',\n",
       " '11093.62',\n",
       " '11326.71',\n",
       " '11363.28',\n",
       " '11381.33',\n",
       " '11482.63',\n",
       " '11554.22',\n",
       " '11743.3',\n",
       " '11833.78',\n",
       " '11856.41',\n",
       " '11881.97',\n",
       " '11884.05',\n",
       " '11946.63',\n",
       " '11987.17',\n",
       " '12142.58',\n",
       " '12244.53',\n",
       " '12265.51',\n",
       " '12485.8',\n",
       " '12557.61',\n",
       " '12592.53',\n",
       " '12629.17',\n",
       " '12629.9',\n",
       " '12648.7',\n",
       " '12925.89',\n",
       " '12928.79',\n",
       " '12949.16',\n",
       " '12981.35',\n",
       " '12982.87',\n",
       " '13405.39',\n",
       " '13457.96',\n",
       " '13470.8',\n",
       " '13831.12',\n",
       " '13887.2',\n",
       " '13887.97',\n",
       " '13919.82',\n",
       " '14001.13',\n",
       " '14001.29',\n",
       " '14133.04',\n",
       " '14313.85',\n",
       " '14418.28',\n",
       " '14474.68',\n",
       " '14478.33',\n",
       " '15161.53',\n",
       " '16085.13',\n",
       " '16577.78',\n",
       " '16586.5',\n",
       " '17043.34',\n",
       " '17085.27',\n",
       " '17179.52',\n",
       " '17626.24',\n",
       " '17663.14',\n",
       " '17929.3',\n",
       " '18218.16',\n",
       " '18223.45',\n",
       " '18246.5',\n",
       " '18328.24',\n",
       " '18767.74',\n",
       " '18806.15',\n",
       " '18963.17',\n",
       " '18972.5',\n",
       " '19107.78',\n",
       " '19214.71',\n",
       " '19350.37',\n",
       " '19362.0',\n",
       " '19444.27',\n",
       " '19515.54',\n",
       " '19521.97',\n",
       " '19539.24',\n",
       " '19719.69',\n",
       " '19749.38',\n",
       " '20463.0',\n",
       " '20781.49',\n",
       " '21195.82',\n",
       " '21223.68',\n",
       " '21978.68',\n",
       " '22192.44',\n",
       " '22218.11',\n",
       " '23065.42',\n",
       " '23244.79',\n",
       " '23563.02',\n",
       " '24180.93',\n",
       " '24227.34',\n",
       " '24513.09',\n",
       " '24667.42',\n",
       " '25081.77',\n",
       " '25992.82',\n",
       " '26125.67',\n",
       " '26926.51',\n",
       " '27000.98',\n",
       " '27037.91',\n",
       " '27117.99',\n",
       " '27322.73',\n",
       " '27346.04',\n",
       " '27533.91',\n",
       " '27724.29',\n",
       " '27808.73',\n",
       " '28287.9',\n",
       " '30942.19',\n",
       " '32548.34',\n",
       " '34303.17',\n",
       " '34439.86',\n",
       " '34672.15',\n",
       " '34806.47',\n",
       " '35595.59',\n",
       " '36021.01',\n",
       " '36124.57',\n",
       " '36149.48',\n",
       " '36307.8',\n",
       " '36580.28',\n",
       " '36950.26',\n",
       " '37133.9',\n",
       " '37165.16',\n",
       " '37484.45',\n",
       " '37742.58',\n",
       " '38126.25',\n",
       " '38245.59',\n",
       " '38282.75',\n",
       " '38709.18',\n",
       " '38792.69',\n",
       " '39611.76',\n",
       " '39722.75',\n",
       " '39871.7',\n",
       " '40273.65',\n",
       " '40419.02',\n",
       " '40932.43',\n",
       " '40941.29',\n",
       " '40974.16',\n",
       " '41676.08',\n",
       " '41949.24',\n",
       " '41999.52',\n",
       " '42112.24',\n",
       " '42124.52',\n",
       " '42211.14',\n",
       " '42560.43',\n",
       " '42969.85',\n",
       " '43813.87',\n",
       " '43896.38',\n",
       " '44202.65',\n",
       " '44260.75',\n",
       " '44400.41',\n",
       " '44423.8',\n",
       " '44501.4',\n",
       " '45008.96',\n",
       " '45863.21',\n",
       " '46151.12',\n",
       " '46200.99',\n",
       " '46599.11',\n",
       " '46889.26',\n",
       " '47055.53',\n",
       " '47269.85',\n",
       " '47462.89',\n",
       " '48673.56',\n",
       " '48675.52',\n",
       " '48885.14',\n",
       " '48970.25',\n",
       " '49577.66',\n",
       " '62592.87',\n",
       " '63770.43']"
      ]
     },
     "execution_count": 54,
     "metadata": {},
     "output_type": "execute_result"
    }
   ],
   "source": [
    "# creating a list of claim for the region southeast\n",
    "southeast=region_claim[~region_claim['southeast'].isnull()]\n",
    "southeast=southeast.southeast.tolist()\n",
    "southeast"
   ]
  },
  {
   "cell_type": "code",
   "execution_count": 55,
   "id": "5153dd01",
   "metadata": {},
   "outputs": [
    {
     "data": {
      "text/plain": [
       "['1136.4',\n",
       " '1137.01',\n",
       " '1137.47',\n",
       " '1141.45',\n",
       " '1146.8',\n",
       " '1149.4',\n",
       " '1163.46',\n",
       " '1241.57',\n",
       " '1242.26',\n",
       " '1242.82',\n",
       " '1149.4',\n",
       " '1621.34',\n",
       " '1625.43',\n",
       " '1627.28',\n",
       " '1628.47',\n",
       " '1632.04',\n",
       " '1632.56',\n",
       " '1635.73',\n",
       " '1639.56',\n",
       " '1639.56',\n",
       " '1646.43',\n",
       " '1704.7',\n",
       " '1705.62',\n",
       " '1708.0',\n",
       " '1708.93',\n",
       " '1711.03',\n",
       " '1712.23',\n",
       " '1769.53',\n",
       " '1906.36',\n",
       " '1909.53',\n",
       " '1917.32',\n",
       " '1969.61',\n",
       " '1972.95',\n",
       " '1977.82',\n",
       " '1980.07',\n",
       " '2045.69',\n",
       " '2055.32',\n",
       " '2117.34',\n",
       " '2128.43',\n",
       " '2130.68',\n",
       " '2134.9',\n",
       " '2136.88',\n",
       " '2138.07',\n",
       " '2221.56',\n",
       " '2250.84',\n",
       " '2254.8',\n",
       " '2257.48',\n",
       " '2261.57',\n",
       " '2302.3',\n",
       " '2352.97',\n",
       " '2362.23',\n",
       " '2404.73',\n",
       " '2523.17',\n",
       " '2527.82',\n",
       " '2534.39',\n",
       " '2639.04',\n",
       " '2643.27',\n",
       " '2680.95',\n",
       " '2690.11',\n",
       " '2699.57',\n",
       " '2709.11',\n",
       " '2709.24',\n",
       " '2710.83',\n",
       " '2719.28',\n",
       " '2730.11',\n",
       " '2775.19',\n",
       " '2789.06',\n",
       " '2803.7',\n",
       " '2842.76',\n",
       " '2850.68',\n",
       " '2855.44',\n",
       " '3021.81',\n",
       " '3062.51',\n",
       " '3077.1',\n",
       " '3176.29',\n",
       " '3176.82',\n",
       " '3201.25',\n",
       " '3292.53',\n",
       " '3353.47',\n",
       " '3537.7',\n",
       " '3556.92',\n",
       " '3579.83',\n",
       " '3594.17',\n",
       " '3736.46',\n",
       " '3866.86',\n",
       " '3877.3',\n",
       " '3956.07',\n",
       " '4032.24',\n",
       " '4058.71',\n",
       " '4133.64',\n",
       " '4134.08',\n",
       " '4189.11',\n",
       " '4239.89',\n",
       " '4243.59',\n",
       " '4296.27',\n",
       " '4320.41',\n",
       " '4357.04',\n",
       " '4433.39',\n",
       " '4433.92',\n",
       " '4454.4',\n",
       " '4462.72',\n",
       " '4466.62',\n",
       " '4527.18',\n",
       " '4571.41',\n",
       " '4618.08',\n",
       " '4719.74',\n",
       " '4738.27',\n",
       " '4877.98',\n",
       " '4894.75',\n",
       " '4906.41',\n",
       " '4922.92',\n",
       " '5028.15',\n",
       " '5116.5',\n",
       " '5125.22',\n",
       " '5257.51',\n",
       " '5261.47',\n",
       " '5266.37',\n",
       " '5267.82',\n",
       " '5272.18',\n",
       " '5312.17',\n",
       " '5327.4',\n",
       " '5373.36',\n",
       " '5377.46',\n",
       " '5385.34',\n",
       " '5425.02',\n",
       " '5630.46',\n",
       " '5693.43',\n",
       " '5729.01',\n",
       " '5855.9',\n",
       " '5989.52',\n",
       " '6112.35',\n",
       " '6117.49',\n",
       " '6123.57',\n",
       " '6128.8',\n",
       " '6198.75',\n",
       " '6203.9',\n",
       " '6358.78',\n",
       " '6360.99',\n",
       " '6373.56',\n",
       " '6389.38',\n",
       " '6393.6',\n",
       " '6455.86',\n",
       " '6457.84',\n",
       " '6548.2',\n",
       " '6571.02',\n",
       " '6664.69',\n",
       " '6686.43',\n",
       " '6710.19',\n",
       " '6796.86',\n",
       " '6933.24',\n",
       " '6940.91',\n",
       " '6948.7',\n",
       " '6986.7',\n",
       " '7153.55',\n",
       " '7201.7',\n",
       " '7209.49',\n",
       " '7222.79',\n",
       " '7256.72',\n",
       " '7261.74',\n",
       " '7265.7',\n",
       " '7281.51',\n",
       " '7419.48',\n",
       " '7421.19',\n",
       " '7443.64',\n",
       " '7518.03',\n",
       " '7526.71',\n",
       " '7537.16',\n",
       " '7727.25',\n",
       " '7731.86',\n",
       " '7749.16',\n",
       " '8017.06',\n",
       " '8023.14',\n",
       " '8026.67',\n",
       " '8059.68',\n",
       " '8116.27',\n",
       " '8162.72',\n",
       " '8310.84',\n",
       " '8410.05',\n",
       " '8413.46',\n",
       " '8428.07',\n",
       " '8671.19',\n",
       " '8733.23',\n",
       " '8765.25',\n",
       " '8827.21',\n",
       " '8835.26',\n",
       " '8930.93',\n",
       " '8965.8',\n",
       " '8988.16',\n",
       " '9174.14',\n",
       " '9193.84',\n",
       " '9249.5',\n",
       " '9301.89',\n",
       " '9566.99',\n",
       " '9583.89',\n",
       " '9620.33',\n",
       " '9644.25',\n",
       " '9863.47',\n",
       " '9869.81',\n",
       " '9910.36',\n",
       " '9991.04',\n",
       " '10115.01',\n",
       " '10156.78',\n",
       " '10231.5',\n",
       " '10264.44',\n",
       " '10269.46',\n",
       " '10355.64',\n",
       " '10461.98',\n",
       " '10493.95',\n",
       " '10594.5',\n",
       " '10600.55',\n",
       " '10601.63',\n",
       " '10825.25',\n",
       " '10848.13',\n",
       " '10942.13',\n",
       " '10959.69',\n",
       " '10976.25',\n",
       " '11015.17',\n",
       " '11033.66',\n",
       " '11082.58',\n",
       " '11085.59',\n",
       " '11187.66',\n",
       " '11289.11',\n",
       " '11305.93',\n",
       " '11353.23',\n",
       " '11356.66',\n",
       " '11436.74',\n",
       " '11454.02',\n",
       " '11520.1',\n",
       " '11735.88',\n",
       " '11743.93',\n",
       " '11830.61',\n",
       " '11840.78',\n",
       " '11842.62',\n",
       " '11945.13',\n",
       " '12044.34',\n",
       " '12124.99',\n",
       " '12129.61',\n",
       " '12222.9',\n",
       " '12224.35',\n",
       " '12231.61',\n",
       " '12235.84',\n",
       " '12268.63',\n",
       " '12269.69',\n",
       " '12475.35',\n",
       " '12479.71',\n",
       " '12495.29',\n",
       " '12523.6',\n",
       " '12609.89',\n",
       " '12622.18',\n",
       " '12643.38',\n",
       " '12950.07',\n",
       " '13012.21',\n",
       " '13112.6',\n",
       " '13352.1',\n",
       " '13415.04',\n",
       " '13429.04',\n",
       " '13770.1',\n",
       " '13844.8',\n",
       " '13937.67',\n",
       " '14119.62',\n",
       " '14210.54',\n",
       " '14254.61',\n",
       " '14256.19',\n",
       " '14349.85',\n",
       " '14382.71',\n",
       " '14426.07',\n",
       " '14692.67',\n",
       " '14711.74',\n",
       " '15019.76',\n",
       " '15555.19',\n",
       " '15612.19',\n",
       " '15817.99',\n",
       " '16420.49',\n",
       " '16450.89',\n",
       " '16455.71',\n",
       " '17352.68',\n",
       " '17361.77',\n",
       " '17468.98',\n",
       " '17560.38',\n",
       " '17748.51',\n",
       " '18033.97',\n",
       " '18157.88',\n",
       " '18310.74',\n",
       " '18765.88',\n",
       " '18804.75',\n",
       " '18838.7',\n",
       " '19442.35',\n",
       " '19673.34',\n",
       " '20009.63',\n",
       " '20234.85',\n",
       " '20745.99',\n",
       " '21098.55',\n",
       " '21348.71',\n",
       " '21472.48',\n",
       " '21595.38',\n",
       " '21677.28',\n",
       " '21774.32',\n",
       " '21880.82',\n",
       " '21984.47',\n",
       " '22493.66',\n",
       " '23807.24',\n",
       " '23887.66',\n",
       " '23967.38',\n",
       " '24059.68',\n",
       " '24393.62',\n",
       " '24476.48',\n",
       " '24535.7',\n",
       " '24915.22',\n",
       " '25678.78',\n",
       " '26018.95',\n",
       " '26109.33',\n",
       " '26467.1',\n",
       " '28340.19',\n",
       " '28468.92',\n",
       " '28476.73',\n",
       " '28868.66',\n",
       " '28923.14',\n",
       " '28950.47',\n",
       " '29141.36',\n",
       " '29330.98',\n",
       " '30063.58',\n",
       " '30166.62',\n",
       " '30284.64',\n",
       " '32734.19',\n",
       " '32787.46',\n",
       " '33307.55',\n",
       " '33471.97',\n",
       " '33750.29',\n",
       " '33907.55',\n",
       " '36219.41',\n",
       " '36898.73',\n",
       " '37465.34',\n",
       " '38746.36',\n",
       " '39725.52',\n",
       " '39983.43',\n",
       " '40003.33',\n",
       " '40720.55',\n",
       " '42760.5',\n",
       " '42983.46',\n",
       " '43578.94',\n",
       " '43921.18',\n",
       " '43943.88',\n",
       " '45702.02',\n",
       " '46130.53',\n",
       " '46661.44',\n",
       " '46718.16',\n",
       " '47496.49',\n",
       " '55135.4',\n",
       " '60021.4']"
      ]
     },
     "execution_count": 55,
     "metadata": {},
     "output_type": "execute_result"
    }
   ],
   "source": [
    "# creating a list of claim for the region northwest\n",
    "northwest=region_claim[~region_claim['northwest'].isnull()]\n",
    "northwest=northwest.northwest.tolist()\n",
    "northwest"
   ]
  },
  {
   "cell_type": "code",
   "execution_count": 56,
   "id": "aa0e5b8b",
   "metadata": {},
   "outputs": [
    {
     "data": {
      "text/plain": [
       "['1261.44',\n",
       " '1261.86',\n",
       " '1263.25',\n",
       " '1526.31',\n",
       " '1682.6',\n",
       " '1727.79',\n",
       " '1728.9',\n",
       " '1731.68',\n",
       " '1737.38',\n",
       " '1743.21',\n",
       " '1744.47',\n",
       " '1748.77',\n",
       " '1759.34',\n",
       " '1826.84',\n",
       " '1832.09',\n",
       " '1837.24',\n",
       " '1842.52',\n",
       " '1875.34',\n",
       " '1880.49',\n",
       " '1964.78',\n",
       " '2007.95',\n",
       " '2020.18',\n",
       " '2103.08',\n",
       " '2150.47',\n",
       " '2154.36',\n",
       " '2166.73',\n",
       " '2331.52',\n",
       " '2416.96',\n",
       " '2457.5',\n",
       " '2494.02',\n",
       " '2585.27',\n",
       " '2597.78',\n",
       " '2632.99',\n",
       " '2866.09',\n",
       " '2904.09',\n",
       " '2913.57',\n",
       " '2974.13',\n",
       " '3161.45',\n",
       " '3172.02',\n",
       " '3208.79',\n",
       " '3260.2',\n",
       " '3277.16',\n",
       " '3353.28',\n",
       " '3378.91',\n",
       " '3410.32',\n",
       " '3443.06',\n",
       " '3484.33',\n",
       " '3554.2',\n",
       " '3578.0',\n",
       " '3591.48',\n",
       " '3597.6',\n",
       " '3659.35',\n",
       " '3693.43',\n",
       " '3761.29',\n",
       " '3847.67',\n",
       " '3906.13',\n",
       " '3987.93',\n",
       " '3989.84',\n",
       " '4076.5',\n",
       " '4149.74',\n",
       " '4234.93',\n",
       " '4260.74',\n",
       " '4391.65',\n",
       " '4402.23',\n",
       " '4529.48',\n",
       " '4536.26',\n",
       " '4646.76',\n",
       " '4670.64',\n",
       " '4687.8',\n",
       " '4746.34',\n",
       " '4751.07',\n",
       " '4762.33',\n",
       " '4766.02',\n",
       " '4830.63',\n",
       " '4883.87',\n",
       " '4931.65',\n",
       " '4934.71',\n",
       " '5003.85',\n",
       " '5012.47',\n",
       " '5080.1',\n",
       " '5152.13',\n",
       " '5240.77',\n",
       " '5246.05',\n",
       " '5253.52',\n",
       " '5325.65',\n",
       " '5375.04',\n",
       " '5383.54',\n",
       " '5472.45',\n",
       " '5488.26',\n",
       " '5615.37',\n",
       " '5649.72',\n",
       " '5708.87',\n",
       " '5910.94',\n",
       " '5926.85',\n",
       " '5969.72',\n",
       " '5972.38',\n",
       " '5979.73',\n",
       " '6059.17',\n",
       " '6082.41',\n",
       " '6186.13',\n",
       " '6196.45',\n",
       " '6238.3',\n",
       " '6250.44',\n",
       " '6282.24',\n",
       " '6311.95',\n",
       " '6414.18',\n",
       " '6474.01',\n",
       " '6496.89',\n",
       " '6571.54',\n",
       " '6600.36',\n",
       " '6666.24',\n",
       " '6775.96',\n",
       " '6849.03',\n",
       " '6875.96',\n",
       " '7045.5',\n",
       " '7050.64',\n",
       " '7147.11',\n",
       " '7151.09',\n",
       " '7160.09',\n",
       " '7196.87',\n",
       " '7337.75',\n",
       " '7345.08',\n",
       " '7348.14',\n",
       " '7371.77',\n",
       " '7418.52',\n",
       " '7441.05',\n",
       " '7441.5',\n",
       " '7445.92',\n",
       " '7512.27',\n",
       " '7623.52',\n",
       " '7624.63',\n",
       " '7626.99',\n",
       " '7726.85',\n",
       " '7740.34',\n",
       " '7954.52',\n",
       " '8027.97',\n",
       " '8062.76',\n",
       " '8068.19',\n",
       " '8116.68',\n",
       " '8269.04',\n",
       " '8277.52',\n",
       " '8444.47',\n",
       " '8457.82',\n",
       " '8520.03',\n",
       " '8522.0',\n",
       " '8539.67',\n",
       " '8551.35',\n",
       " '8556.91',\n",
       " '8615.3',\n",
       " '8703.46',\n",
       " '8782.47',\n",
       " '8798.59',\n",
       " '8823.28',\n",
       " '8825.09',\n",
       " '8932.08',\n",
       " '8968.33',\n",
       " '9101.8',\n",
       " '9144.57',\n",
       " '9182.17',\n",
       " '9264.8',\n",
       " '9391.35',\n",
       " '9414.92',\n",
       " '9563.03',\n",
       " '9625.92',\n",
       " '9630.4',\n",
       " '9634.54',\n",
       " '9724.53',\n",
       " '9850.43',\n",
       " '9861.03',\n",
       " '9872.7',\n",
       " '9880.07',\n",
       " '10065.41',\n",
       " '10085.85',\n",
       " '10096.97',\n",
       " '10118.42',\n",
       " '10214.64',\n",
       " '10325.21',\n",
       " '10436.1',\n",
       " '10450.55',\n",
       " '10577.09',\n",
       " '10601.41',\n",
       " '10602.39',\n",
       " '10704.47',\n",
       " '10713.64',\n",
       " '10791.96',\n",
       " '10795.94',\n",
       " '10806.84',\n",
       " '10959.33',\n",
       " '10965.45',\n",
       " '11070.54',\n",
       " '11073.18',\n",
       " '11150.78',\n",
       " '11163.57',\n",
       " '11253.42',\n",
       " '11264.54',\n",
       " '11299.34',\n",
       " '11345.52',\n",
       " '11362.76',\n",
       " '11365.95',\n",
       " '11411.69',\n",
       " '11455.28',\n",
       " '11538.42',\n",
       " '11552.9',\n",
       " '11576.13',\n",
       " '11674.13',\n",
       " '11737.85',\n",
       " '11741.73',\n",
       " '11837.16',\n",
       " '11842.44',\n",
       " '11848.14',\n",
       " '11881.36',\n",
       " '12032.33',\n",
       " '12094.48',\n",
       " '12105.32',\n",
       " '12146.97',\n",
       " '12233.83',\n",
       " '12333.83',\n",
       " '12347.17',\n",
       " '12363.55',\n",
       " '12574.05',\n",
       " '12638.2',\n",
       " '12644.59',\n",
       " '12646.21',\n",
       " '12957.12',\n",
       " '12979.36',\n",
       " '13041.92',\n",
       " '13063.88',\n",
       " '13126.68',\n",
       " '13224.69',\n",
       " '13390.56',\n",
       " '13393.76',\n",
       " '13451.12',\n",
       " '13462.52',\n",
       " '13470.86',\n",
       " '13822.8',\n",
       " '13844.51',\n",
       " '13880.95',\n",
       " '14007.22',\n",
       " '14235.07',\n",
       " '14319.03',\n",
       " '14358.36',\n",
       " '14988.43',\n",
       " '15170.07',\n",
       " '15820.7',\n",
       " '15828.82',\n",
       " '16232.85',\n",
       " '16297.85',\n",
       " '16884.92',\n",
       " '17081.08',\n",
       " '17496.31',\n",
       " '17942.11',\n",
       " '18259.22',\n",
       " '18608.26',\n",
       " '18955.22',\n",
       " '19023.26',\n",
       " '19040.88',\n",
       " '19199.94',\n",
       " '19933.46',\n",
       " '20167.34',\n",
       " '20177.67',\n",
       " '20420.6',\n",
       " '20630.28',\n",
       " '21082.16',\n",
       " '21232.18',\n",
       " '21797.0',\n",
       " '22144.03',\n",
       " '22478.6',\n",
       " '23082.96',\n",
       " '23306.55',\n",
       " '23568.27',\n",
       " '24520.26',\n",
       " '24603.05',\n",
       " '25309.49',\n",
       " '25382.3',\n",
       " '26140.36',\n",
       " '26236.58',\n",
       " '27941.29',\n",
       " '33900.65',\n",
       " '34166.27',\n",
       " '34472.84',\n",
       " '34779.62',\n",
       " '34828.65',\n",
       " '34838.87',\n",
       " '35160.13',\n",
       " '35491.64',\n",
       " '35585.58',\n",
       " '36085.22',\n",
       " '36197.7',\n",
       " '36397.58',\n",
       " '36837.47',\n",
       " '36910.61',\n",
       " '37079.37',\n",
       " '37829.72',\n",
       " '38344.57',\n",
       " '38415.47',\n",
       " '38711.0',\n",
       " '38998.55',\n",
       " '39241.44',\n",
       " '39727.61',\n",
       " '39836.52',\n",
       " '40103.89',\n",
       " '40182.25',\n",
       " '41661.6',\n",
       " '42856.84',\n",
       " '44585.46',\n",
       " '46113.51',\n",
       " '47291.06',\n",
       " '47305.31',\n",
       " '47403.88',\n",
       " '47928.03',\n",
       " '48173.36',\n",
       " '48824.45',\n",
       " '51194.56',\n",
       " '52590.83']"
      ]
     },
     "execution_count": 56,
     "metadata": {},
     "output_type": "execute_result"
    }
   ],
   "source": [
    "# creating a list of claim for the region southwest\n",
    "southwest=region_claim[~region_claim['southwest'].isnull()]\n",
    "southwest=southwest.southwest.tolist()\n",
    "southwest"
   ]
  },
  {
   "cell_type": "code",
   "execution_count": 57,
   "id": "1df47a80",
   "metadata": {},
   "outputs": [
    {
     "data": {
      "text/plain": [
       "['1694.8',\n",
       " '1702.46',\n",
       " '1704.57',\n",
       " '1967.02',\n",
       " '2102.26',\n",
       " '2104.11',\n",
       " '2755.02',\n",
       " '2897.32',\n",
       " '2899.49',\n",
       " '3044.21',\n",
       " '3046.06',\n",
       " '3070.81',\n",
       " '1704.57',\n",
       " '3167.46',\n",
       " '3206.49',\n",
       " '3213.62',\n",
       " '3268.85',\n",
       " '3279.87',\n",
       " '3309.79',\n",
       " '3385.4',\n",
       " '3645.09',\n",
       " '3732.63',\n",
       " '3857.76',\n",
       " '3861.21',\n",
       " '3925.76',\n",
       " '3943.6',\n",
       " '4005.42',\n",
       " '4040.56',\n",
       " '7935.29',\n",
       " '7985.82',\n",
       " '7986.48',\n",
       " '8252.28',\n",
       " '8302.54',\n",
       " '8334.46',\n",
       " '8334.59',\n",
       " '8342.91',\n",
       " '8534.67',\n",
       " '8538.29',\n",
       " '8603.82',\n",
       " '8604.48',\n",
       " '8606.22',\n",
       " '8627.54',\n",
       " '8688.86',\n",
       " '8823.99',\n",
       " '8891.14',\n",
       " '8964.06',\n",
       " '9095.07',\n",
       " '9222.4',\n",
       " '9225.26',\n",
       " '9282.48',\n",
       " '9288.03',\n",
       " '9290.14',\n",
       " '9361.33',\n",
       " '9411.01',\n",
       " '9432.93',\n",
       " '9447.25',\n",
       " '9447.38',\n",
       " '9500.57',\n",
       " '9541.7',\n",
       " '9617.66',\n",
       " '9704.67',\n",
       " '9715.84',\n",
       " '9722.77',\n",
       " '9778.35',\n",
       " '9866.3',\n",
       " '9875.68',\n",
       " '9957.72',\n",
       " '9964.06',\n",
       " '10043.25',\n",
       " '10072.06',\n",
       " '10106.13',\n",
       " '10141.14',\n",
       " '10197.77',\n",
       " '10370.91',\n",
       " '10407.09',\n",
       " '10422.92',\n",
       " '10435.07',\n",
       " '10564.88',\n",
       " '10736.87',\n",
       " '10796.35',\n",
       " '10797.34',\n",
       " '10923.93',\n",
       " '11165.42',\n",
       " '11244.38',\n",
       " '11272.33',\n",
       " '11286.54',\n",
       " '11394.07',\n",
       " '11396.9',\n",
       " '11488.32',\n",
       " '11512.41',\n",
       " '11534.87',\n",
       " '11566.3',\n",
       " '11657.72',\n",
       " '11658.12',\n",
       " '11658.38',\n",
       " '11729.68',\n",
       " '11763.0',\n",
       " '11879.1',\n",
       " '11931.13',\n",
       " '11938.26',\n",
       " '11944.59',\n",
       " '12029.29',\n",
       " '12096.65',\n",
       " '12323.94',\n",
       " '12404.88',\n",
       " '12430.95',\n",
       " '12731.0',\n",
       " '12741.17',\n",
       " '12797.21',\n",
       " '12815.44',\n",
       " '12829.46',\n",
       " '12890.06',\n",
       " '12913.99',\n",
       " '13019.16',\n",
       " '13047.33',\n",
       " '13129.6',\n",
       " '13143.34',\n",
       " '13143.86',\n",
       " '13204.29',\n",
       " '13217.09',\n",
       " '13224.06',\n",
       " '13228.85',\n",
       " '13430.27',\n",
       " '13555.0',\n",
       " '13607.37',\n",
       " '13616.36',\n",
       " '13635.64',\n",
       " '13725.47',\n",
       " '13747.87',\n",
       " '13974.46',\n",
       " '13981.85',\n",
       " '14043.48',\n",
       " '14283.46',\n",
       " '14394.4',\n",
       " '14394.56',\n",
       " '14410.93',\n",
       " '14449.85',\n",
       " '14451.84',\n",
       " '14455.64',\n",
       " '14571.89',\n",
       " '14590.63',\n",
       " '14901.52',\n",
       " '15006.58',\n",
       " '15230.32',\n",
       " '15359.1',\n",
       " '15518.18',\n",
       " '16069.08',\n",
       " '16115.3',\n",
       " '16138.76',\n",
       " '16657.72',\n",
       " '16776.3',\n",
       " '16796.41',\n",
       " '17128.43',\n",
       " '17178.68',\n",
       " '17878.9',\n",
       " '17904.53',\n",
       " '18648.42',\n",
       " '18903.49',\n",
       " '19144.58',\n",
       " '19496.72',\n",
       " '19594.81',\n",
       " '19798.05',\n",
       " '19964.75',\n",
       " '20149.32',\n",
       " '20277.81',\n",
       " '20296.86',\n",
       " '20709.02',\n",
       " '20773.63',\n",
       " '20878.78',\n",
       " '20984.09',\n",
       " '21259.38',\n",
       " '21344.85',\n",
       " '21659.93',\n",
       " '21771.34',\n",
       " '22331.57',\n",
       " '22395.74',\n",
       " '22412.65',\n",
       " '22462.04',\n",
       " '23045.57',\n",
       " '23241.47',\n",
       " '23288.93',\n",
       " '23401.31',\n",
       " '24106.91',\n",
       " '24671.66',\n",
       " '24869.84',\n",
       " '24873.38',\n",
       " '24915.05',\n",
       " '25333.33',\n",
       " '25517.11',\n",
       " '25656.58',\n",
       " '26392.26',\n",
       " '27218.44',\n",
       " '27375.9',\n",
       " '28101.33',\n",
       " '29186.48',\n",
       " '29523.17',\n",
       " '30184.94',\n",
       " '30260.0',\n",
       " '31620.0',\n",
       " '32108.66',\n",
       " '33475.82',\n",
       " '33732.69',\n",
       " '34254.05',\n",
       " '34617.84',\n",
       " '35069.37',\n",
       " '35147.53',\n",
       " '36189.1',\n",
       " '37270.15',\n",
       " '37607.53',\n",
       " '37701.88',\n",
       " '38511.63',\n",
       " '39047.29',\n",
       " '39125.33',\n",
       " '39556.49',\n",
       " '39597.41',\n",
       " '39774.28',\n",
       " '40904.2',\n",
       " '41034.22',\n",
       " '41097.16',\n",
       " '41919.1',\n",
       " '42111.66',\n",
       " '42303.69',\n",
       " '43254.42',\n",
       " '43753.34',\n",
       " '44641.2',\n",
       " '45710.21',\n",
       " '46255.11',\n",
       " '47896.79',\n",
       " '48517.56',\n",
       " '48549.18',\n",
       " '58571.07']"
      ]
     },
     "execution_count": 57,
     "metadata": {},
     "output_type": "execute_result"
    }
   ],
   "source": [
    "# creating a list of claim for the region northeast\n",
    "northeast=region_claim[~region_claim['northeast'].isnull()]\n",
    "northeast=northeast.northeast.tolist()\n",
    "northeast"
   ]
  },
  {
   "cell_type": "code",
   "execution_count": 58,
   "id": "ea55286b",
   "metadata": {},
   "outputs": [
    {
     "name": "stderr",
     "output_type": "stream",
     "text": [
      "C:\\Users\\sreek\\anaconda3\\lib\\site-packages\\scipy\\stats\\morestats.py:1757: UserWarning: Input data for shapiro has range zero. The results may not be accurate.\n",
      "  warnings.warn(\"Input data for shapiro has range zero. The results \"\n"
     ]
    },
    {
     "data": {
      "text/plain": [
       "(ShapiroResult(statistic=1.0, pvalue=1.0),\n",
       " ShapiroResult(statistic=1.0, pvalue=1.0),\n",
       " ShapiroResult(statistic=1.0, pvalue=1.0))"
      ]
     },
     "execution_count": 58,
     "metadata": {},
     "output_type": "execute_result"
    }
   ],
   "source": [
    "# normality tests for the 3 regions - southeast, nothwest and southwest\n",
    "stats.shapiro(southeast),stats.shapiro(northwest),stats.shapiro(southwest)\n",
    "#pvalue > alpha(0.05). Hence the null is accepted that the claims of the 3 regions are normally distributed."
   ]
  },
  {
   "cell_type": "code",
   "execution_count": 59,
   "id": "d54620ff",
   "metadata": {},
   "outputs": [
    {
     "name": "stdout",
     "output_type": "stream",
     "text": [
      "1.2233297842427946\n",
      "0.29464658140230515\n"
     ]
    }
   ],
   "source": [
    "# performing ANOVA test on the 3 regions\n",
    "# alpha = 0.05\n",
    "f_test, p_val = stats.f_oneway(southeast, northwest, southwest)\n",
    "print(f_test)\n",
    "print(p_val)"
   ]
  },
  {
   "cell_type": "markdown",
   "id": "a768bf32",
   "metadata": {},
   "source": [
    "**pvalue > alpha(0.05). Hence, our null hypothesis is accepted.  Mean claim of all 3 regions - Southeast, Northwest and Southwest are similar.**"
   ]
  },
  {
   "cell_type": "markdown",
   "id": "375e8a87",
   "metadata": {},
   "source": [
    "**Since the claims for these 3 regions - Southeast, Northwest and Southwest, we are now clubbing these 3 regions into 1 region. We are now checking how much difference in claims between Northeast region and Other regions.**"
   ]
  },
  {
   "cell_type": "code",
   "execution_count": 60,
   "id": "52160573",
   "metadata": {},
   "outputs": [
    {
     "data": {
      "text/plain": [
       "0       southeast\n",
       "1       southeast\n",
       "2       southeast\n",
       "3       northwest\n",
       "4       northwest\n",
       "          ...    \n",
       "1335    northwest\n",
       "1336    northeast\n",
       "1337    northwest\n",
       "1338    southeast\n",
       "1339    southeast\n",
       "Name: region, Length: 1340, dtype: object"
      ]
     },
     "execution_count": 60,
     "metadata": {},
     "output_type": "execute_result"
    }
   ],
   "source": [
    "df.region"
   ]
  },
  {
   "cell_type": "code",
   "execution_count": 61,
   "id": "38ca6a4c",
   "metadata": {},
   "outputs": [
    {
     "data": {
      "text/plain": [
       "0           other\n",
       "1           other\n",
       "2           other\n",
       "3           other\n",
       "4           other\n",
       "          ...    \n",
       "1335        other\n",
       "1336    northeast\n",
       "1337        other\n",
       "1338        other\n",
       "1339        other\n",
       "Name: region, Length: 1340, dtype: object"
      ]
     },
     "execution_count": 61,
     "metadata": {},
     "output_type": "execute_result"
    }
   ],
   "source": [
    "#clubbing the regions as other\n",
    "df[\"region\"] = df[\"region\"].replace(['southeast','northwest','southwest'], 'other')\n",
    "df.region"
   ]
  },
  {
   "cell_type": "code",
   "execution_count": 62,
   "id": "19f939e4",
   "metadata": {},
   "outputs": [
    {
     "data": {
      "text/plain": [
       "region\n",
       "northeast     231\n",
       "other        1109\n",
       "Name: claim, dtype: int64"
      ]
     },
     "execution_count": 62,
     "metadata": {},
     "output_type": "execute_result"
    }
   ],
   "source": [
    "#Checking the count in the northeast and other regions\n",
    "df.groupby([\"region\"])['claim'].count()"
   ]
  },
  {
   "cell_type": "code",
   "execution_count": 63,
   "id": "1fb7f037",
   "metadata": {},
   "outputs": [
    {
     "data": {
      "text/plain": [
       "region\n",
       "northeast    16889.044719\n",
       "other        12495.319955\n",
       "Name: claim, dtype: float64"
      ]
     },
     "execution_count": 63,
     "metadata": {},
     "output_type": "execute_result"
    }
   ],
   "source": [
    "#Checking the mean for northeast and other regions\n",
    "df.groupby([\"region\"])['claim'].mean()"
   ]
  },
  {
   "cell_type": "code",
   "execution_count": 64,
   "id": "b78c3468",
   "metadata": {},
   "outputs": [
    {
     "data": {
      "image/png": "[encoded data removed]",
      "text/plain": [
       "<Figure size 432x360 with 1 Axes>"
      ]
     },
     "metadata": {
      "needs_background": "light"
     },
     "output_type": "display_data"
    }
   ],
   "source": [
    "# plotting the graph for region (other vs northest) \n",
    "sns.boxplot(x = \"region\",y= \"claim\",data = df)\n",
    "plt.gcf().set_size_inches(6, 5)\n",
    "\n",
    "plt.show()"
   ]
  },
  {
   "cell_type": "markdown",
   "id": "b5ca51f1",
   "metadata": {},
   "source": [
    "## Observations: \n",
    "1. Maximum claim of people living in northeast region is more compared to people living in other regions. \n",
    "2. Looking at Q3, for people living in northeast region, the claim is more spread out between nearly 15K - 20K. Whereas for people living in other regions, the claim is much lesser than 15K.  \n"
   ]
  },
  {
   "cell_type": "markdown",
   "id": "57ef7f3e",
   "metadata": {},
   "source": [
    "# ---------------------------------------------------------------------------------------\n",
    "---------------------------------------------------------------------------------------"
   ]
  },
  {
   "cell_type": "markdown",
   "id": "fe5e0b8e",
   "metadata": {},
   "source": [
    "## Which Models to choose? "
   ]
  },
  {
   "cell_type": "markdown",
   "id": "e65e0c9b",
   "metadata": {},
   "source": [
    "To decide which Model to fit, we are considering the target variable and the features. \n",
    "\n",
    "The target variable: Claim is a continuous variable. \n",
    "\n",
    "And, we would like to look at the effect of each feature on the amount claimed. This will be clearly seen in Linear Regression Model. \n",
    "\n",
    "\n",
    "Going ahead with **Linear Regression Model** for our first experiment. "
   ]
  },
  {
   "cell_type": "markdown",
   "id": "f7c102c7",
   "metadata": {},
   "source": [
    "## Experiment 1 "
   ]
  },
  {
   "cell_type": "markdown",
   "id": "98b1d2e8",
   "metadata": {},
   "source": [
    "Features: \n",
    "1. Smoking \n",
    "\n",
    "We will fit the model with only smoking. "
   ]
  },
  {
   "cell_type": "code",
   "execution_count": null,
   "id": "1c23f928",
   "metadata": {},
   "outputs": [],
   "source": []
  }
 ],
 "metadata": {
  "kernelspec": {
   "display_name": "Python 3 (ipykernel)",
   "language": "python",
   "name": "python3"
  },
  "language_info": {
   "codemirror_mode": {
    "name": "ipython",
    "version": 3
   },
   "file_extension": ".py",
   "mimetype": "text/x-python",
   "name": "python",
   "nbconvert_exporter": "python",
   "pygments_lexer": "ipython3",
   "version": "3.9.7"
  }
 },
 "nbformat": 4,
 "nbformat_minor": 5
}
